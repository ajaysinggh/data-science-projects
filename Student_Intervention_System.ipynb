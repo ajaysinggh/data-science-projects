{
  "nbformat": 4,
  "nbformat_minor": 0,
  "metadata": {
    "kernelspec": {
      "display_name": "Python 3",
      "language": "python",
      "name": "python3"
    },
    "language_info": {
      "codemirror_mode": {
        "name": "ipython",
        "version": 3
      },
      "file_extension": ".py",
      "mimetype": "text/x-python",
      "name": "python",
      "nbconvert_exporter": "python",
      "pygments_lexer": "ipython3",
      "version": "3.7.3"
    },
    "colab": {
      "name": "Student Intervention System.ipynb",
      "provenance": [],
      "include_colab_link": true
    }
  },
  "cells": [
    {
      "cell_type": "markdown",
      "metadata": {
        "id": "view-in-github",
        "colab_type": "text"
      },
      "source": [
        "<a href=\"https://colab.research.google.com/github/ajaysinggh/data-science-projects/blob/master/Student_Intervention_System.ipynb\" target=\"_parent\"><img src=\"https://colab.research.google.com/assets/colab-badge.svg\" alt=\"Open In Colab\"/></a>"
      ]
    },
    {
      "cell_type": "code",
      "metadata": {
        "id": "uSoTCM-StFUo"
      },
      "source": [
        "# IMPORTING THE LIBRARIES\n",
        "import pandas as pd\n",
        "import numpy as np\n",
        "import matplotlib.pyplot as plt\n",
        "%matplotlib inline\n",
        "import seaborn as sns\n",
        "import warnings\n",
        "warnings.filterwarnings(\"ignore\")\n",
        "from time import time\n",
        "from sklearn.metrics import f1_score,accuracy_score,classification_report,roc_curve,confusion_matrix"
      ],
      "execution_count": null,
      "outputs": []
    },
    {
      "cell_type": "code",
      "metadata": {
        "id": "MetekQidtFUq",
        "outputId": "6161dad5-c3c3-4428-e51a-581f86a6512c"
      },
      "source": [
        "# IMPORTING THE DATASET\n",
        "stud_df = pd.read_csv(\"C:\\\\Users\\\\AJAY SINGH\\\\students_data.csv\")\n",
        "print(\"shape of the dataset:\",stud_df.shape)\n",
        "stud_df.head()"
      ],
      "execution_count": null,
      "outputs": [
        {
          "output_type": "stream",
          "text": [
            "shape of the dataset: (395, 31)\n"
          ],
          "name": "stdout"
        },
        {
          "output_type": "execute_result",
          "data": {
            "text/html": [
              "<div>\n",
              "<style scoped>\n",
              "    .dataframe tbody tr th:only-of-type {\n",
              "        vertical-align: middle;\n",
              "    }\n",
              "\n",
              "    .dataframe tbody tr th {\n",
              "        vertical-align: top;\n",
              "    }\n",
              "\n",
              "    .dataframe thead th {\n",
              "        text-align: right;\n",
              "    }\n",
              "</style>\n",
              "<table border=\"1\" class=\"dataframe\">\n",
              "  <thead>\n",
              "    <tr style=\"text-align: right;\">\n",
              "      <th></th>\n",
              "      <th>school</th>\n",
              "      <th>sex</th>\n",
              "      <th>age</th>\n",
              "      <th>address</th>\n",
              "      <th>famsize</th>\n",
              "      <th>Pstatus</th>\n",
              "      <th>Medu</th>\n",
              "      <th>Fedu</th>\n",
              "      <th>Mjob</th>\n",
              "      <th>Fjob</th>\n",
              "      <th>...</th>\n",
              "      <th>internet</th>\n",
              "      <th>romantic</th>\n",
              "      <th>famrel</th>\n",
              "      <th>freetime</th>\n",
              "      <th>goout</th>\n",
              "      <th>Dalc</th>\n",
              "      <th>Walc</th>\n",
              "      <th>health</th>\n",
              "      <th>absences</th>\n",
              "      <th>passed</th>\n",
              "    </tr>\n",
              "  </thead>\n",
              "  <tbody>\n",
              "    <tr>\n",
              "      <th>0</th>\n",
              "      <td>GP</td>\n",
              "      <td>F</td>\n",
              "      <td>18</td>\n",
              "      <td>U</td>\n",
              "      <td>GT3</td>\n",
              "      <td>A</td>\n",
              "      <td>4</td>\n",
              "      <td>4</td>\n",
              "      <td>at_home</td>\n",
              "      <td>teacher</td>\n",
              "      <td>...</td>\n",
              "      <td>no</td>\n",
              "      <td>no</td>\n",
              "      <td>4</td>\n",
              "      <td>3</td>\n",
              "      <td>4</td>\n",
              "      <td>1</td>\n",
              "      <td>1</td>\n",
              "      <td>3</td>\n",
              "      <td>6</td>\n",
              "      <td>no</td>\n",
              "    </tr>\n",
              "    <tr>\n",
              "      <th>1</th>\n",
              "      <td>GP</td>\n",
              "      <td>F</td>\n",
              "      <td>17</td>\n",
              "      <td>U</td>\n",
              "      <td>GT3</td>\n",
              "      <td>T</td>\n",
              "      <td>1</td>\n",
              "      <td>1</td>\n",
              "      <td>at_home</td>\n",
              "      <td>other</td>\n",
              "      <td>...</td>\n",
              "      <td>yes</td>\n",
              "      <td>no</td>\n",
              "      <td>5</td>\n",
              "      <td>3</td>\n",
              "      <td>3</td>\n",
              "      <td>1</td>\n",
              "      <td>1</td>\n",
              "      <td>3</td>\n",
              "      <td>4</td>\n",
              "      <td>no</td>\n",
              "    </tr>\n",
              "    <tr>\n",
              "      <th>2</th>\n",
              "      <td>GP</td>\n",
              "      <td>F</td>\n",
              "      <td>15</td>\n",
              "      <td>U</td>\n",
              "      <td>LE3</td>\n",
              "      <td>T</td>\n",
              "      <td>1</td>\n",
              "      <td>1</td>\n",
              "      <td>at_home</td>\n",
              "      <td>other</td>\n",
              "      <td>...</td>\n",
              "      <td>yes</td>\n",
              "      <td>no</td>\n",
              "      <td>4</td>\n",
              "      <td>3</td>\n",
              "      <td>2</td>\n",
              "      <td>2</td>\n",
              "      <td>3</td>\n",
              "      <td>3</td>\n",
              "      <td>10</td>\n",
              "      <td>yes</td>\n",
              "    </tr>\n",
              "    <tr>\n",
              "      <th>3</th>\n",
              "      <td>GP</td>\n",
              "      <td>F</td>\n",
              "      <td>15</td>\n",
              "      <td>U</td>\n",
              "      <td>GT3</td>\n",
              "      <td>T</td>\n",
              "      <td>4</td>\n",
              "      <td>2</td>\n",
              "      <td>health</td>\n",
              "      <td>services</td>\n",
              "      <td>...</td>\n",
              "      <td>yes</td>\n",
              "      <td>yes</td>\n",
              "      <td>3</td>\n",
              "      <td>2</td>\n",
              "      <td>2</td>\n",
              "      <td>1</td>\n",
              "      <td>1</td>\n",
              "      <td>5</td>\n",
              "      <td>2</td>\n",
              "      <td>yes</td>\n",
              "    </tr>\n",
              "    <tr>\n",
              "      <th>4</th>\n",
              "      <td>GP</td>\n",
              "      <td>F</td>\n",
              "      <td>16</td>\n",
              "      <td>U</td>\n",
              "      <td>GT3</td>\n",
              "      <td>T</td>\n",
              "      <td>3</td>\n",
              "      <td>3</td>\n",
              "      <td>other</td>\n",
              "      <td>other</td>\n",
              "      <td>...</td>\n",
              "      <td>no</td>\n",
              "      <td>no</td>\n",
              "      <td>4</td>\n",
              "      <td>3</td>\n",
              "      <td>2</td>\n",
              "      <td>1</td>\n",
              "      <td>2</td>\n",
              "      <td>5</td>\n",
              "      <td>4</td>\n",
              "      <td>yes</td>\n",
              "    </tr>\n",
              "  </tbody>\n",
              "</table>\n",
              "<p>5 rows × 31 columns</p>\n",
              "</div>"
            ],
            "text/plain": [
              "  school sex  age address famsize Pstatus  Medu  Fedu     Mjob      Fjob  ...  \\\n",
              "0     GP   F   18       U     GT3       A     4     4  at_home   teacher  ...   \n",
              "1     GP   F   17       U     GT3       T     1     1  at_home     other  ...   \n",
              "2     GP   F   15       U     LE3       T     1     1  at_home     other  ...   \n",
              "3     GP   F   15       U     GT3       T     4     2   health  services  ...   \n",
              "4     GP   F   16       U     GT3       T     3     3    other     other  ...   \n",
              "\n",
              "  internet romantic  famrel  freetime  goout Dalc Walc health absences passed  \n",
              "0       no       no       4         3      4    1    1      3        6     no  \n",
              "1      yes       no       5         3      3    1    1      3        4     no  \n",
              "2      yes       no       4         3      2    2    3      3       10    yes  \n",
              "3      yes      yes       3         2      2    1    1      5        2    yes  \n",
              "4       no       no       4         3      2    1    2      5        4    yes  \n",
              "\n",
              "[5 rows x 31 columns]"
            ]
          },
          "metadata": {
            "tags": []
          },
          "execution_count": 2
        }
      ]
    },
    {
      "cell_type": "code",
      "metadata": {
        "id": "gQ6Jc7qNtFUt"
      },
      "source": [
        "# THE TARGET VARIABLE \"PASSED\" CONTAINS CATEGORICAL DATA ONLY ( YES AND NO) ONLY \n",
        "# SO IT A CLASSIFICATION PROBLEM"
      ],
      "execution_count": null,
      "outputs": []
    },
    {
      "cell_type": "code",
      "metadata": {
        "id": "eKKDsxK2tFUu",
        "outputId": "a8604e6c-43ca-4fbb-ad53-5a11db43a72f"
      },
      "source": [
        "# FEATURE NAMES OF THE DATASET\n",
        "stud_df.columns"
      ],
      "execution_count": null,
      "outputs": [
        {
          "output_type": "execute_result",
          "data": {
            "text/plain": [
              "Index(['school', 'sex', 'age', 'address', 'famsize', 'Pstatus', 'Medu', 'Fedu',\n",
              "       'Mjob', 'Fjob', 'reason', 'guardian', 'traveltime', 'studytime',\n",
              "       'failures', 'schoolsup', 'famsup', 'paid', 'activities', 'nursery',\n",
              "       'higher', 'internet', 'romantic', 'famrel', 'freetime', 'goout', 'Dalc',\n",
              "       'Walc', 'health', 'absences', 'passed'],\n",
              "      dtype='object')"
            ]
          },
          "metadata": {
            "tags": []
          },
          "execution_count": 4
        }
      ]
    },
    {
      "cell_type": "code",
      "metadata": {
        "scrolled": true,
        "id": "wroNViEctFUu",
        "outputId": "1128af93-6718-4864-ebd9-ad884c7749a1"
      },
      "source": [
        "# CHECKING THE SUMMARY OF THE COMTINOUS DATA FEATURES INTO THE DATASET\n",
        "stud_df.describe()"
      ],
      "execution_count": null,
      "outputs": [
        {
          "output_type": "execute_result",
          "data": {
            "text/html": [
              "<div>\n",
              "<style scoped>\n",
              "    .dataframe tbody tr th:only-of-type {\n",
              "        vertical-align: middle;\n",
              "    }\n",
              "\n",
              "    .dataframe tbody tr th {\n",
              "        vertical-align: top;\n",
              "    }\n",
              "\n",
              "    .dataframe thead th {\n",
              "        text-align: right;\n",
              "    }\n",
              "</style>\n",
              "<table border=\"1\" class=\"dataframe\">\n",
              "  <thead>\n",
              "    <tr style=\"text-align: right;\">\n",
              "      <th></th>\n",
              "      <th>age</th>\n",
              "      <th>Medu</th>\n",
              "      <th>Fedu</th>\n",
              "      <th>traveltime</th>\n",
              "      <th>studytime</th>\n",
              "      <th>failures</th>\n",
              "      <th>famrel</th>\n",
              "      <th>freetime</th>\n",
              "      <th>goout</th>\n",
              "      <th>Dalc</th>\n",
              "      <th>Walc</th>\n",
              "      <th>health</th>\n",
              "      <th>absences</th>\n",
              "    </tr>\n",
              "  </thead>\n",
              "  <tbody>\n",
              "    <tr>\n",
              "      <th>count</th>\n",
              "      <td>395.000000</td>\n",
              "      <td>395.000000</td>\n",
              "      <td>395.000000</td>\n",
              "      <td>395.000000</td>\n",
              "      <td>395.000000</td>\n",
              "      <td>395.000000</td>\n",
              "      <td>395.000000</td>\n",
              "      <td>395.000000</td>\n",
              "      <td>395.000000</td>\n",
              "      <td>395.000000</td>\n",
              "      <td>395.000000</td>\n",
              "      <td>395.000000</td>\n",
              "      <td>395.000000</td>\n",
              "    </tr>\n",
              "    <tr>\n",
              "      <th>mean</th>\n",
              "      <td>16.696203</td>\n",
              "      <td>2.749367</td>\n",
              "      <td>2.521519</td>\n",
              "      <td>1.448101</td>\n",
              "      <td>2.035443</td>\n",
              "      <td>0.334177</td>\n",
              "      <td>3.944304</td>\n",
              "      <td>3.235443</td>\n",
              "      <td>3.108861</td>\n",
              "      <td>1.481013</td>\n",
              "      <td>2.291139</td>\n",
              "      <td>3.554430</td>\n",
              "      <td>5.708861</td>\n",
              "    </tr>\n",
              "    <tr>\n",
              "      <th>std</th>\n",
              "      <td>1.276043</td>\n",
              "      <td>1.094735</td>\n",
              "      <td>1.088201</td>\n",
              "      <td>0.697505</td>\n",
              "      <td>0.839240</td>\n",
              "      <td>0.743651</td>\n",
              "      <td>0.896659</td>\n",
              "      <td>0.998862</td>\n",
              "      <td>1.113278</td>\n",
              "      <td>0.890741</td>\n",
              "      <td>1.287897</td>\n",
              "      <td>1.390303</td>\n",
              "      <td>8.003096</td>\n",
              "    </tr>\n",
              "    <tr>\n",
              "      <th>min</th>\n",
              "      <td>15.000000</td>\n",
              "      <td>0.000000</td>\n",
              "      <td>0.000000</td>\n",
              "      <td>1.000000</td>\n",
              "      <td>1.000000</td>\n",
              "      <td>0.000000</td>\n",
              "      <td>1.000000</td>\n",
              "      <td>1.000000</td>\n",
              "      <td>1.000000</td>\n",
              "      <td>1.000000</td>\n",
              "      <td>1.000000</td>\n",
              "      <td>1.000000</td>\n",
              "      <td>0.000000</td>\n",
              "    </tr>\n",
              "    <tr>\n",
              "      <th>25%</th>\n",
              "      <td>16.000000</td>\n",
              "      <td>2.000000</td>\n",
              "      <td>2.000000</td>\n",
              "      <td>1.000000</td>\n",
              "      <td>1.000000</td>\n",
              "      <td>0.000000</td>\n",
              "      <td>4.000000</td>\n",
              "      <td>3.000000</td>\n",
              "      <td>2.000000</td>\n",
              "      <td>1.000000</td>\n",
              "      <td>1.000000</td>\n",
              "      <td>3.000000</td>\n",
              "      <td>0.000000</td>\n",
              "    </tr>\n",
              "    <tr>\n",
              "      <th>50%</th>\n",
              "      <td>17.000000</td>\n",
              "      <td>3.000000</td>\n",
              "      <td>2.000000</td>\n",
              "      <td>1.000000</td>\n",
              "      <td>2.000000</td>\n",
              "      <td>0.000000</td>\n",
              "      <td>4.000000</td>\n",
              "      <td>3.000000</td>\n",
              "      <td>3.000000</td>\n",
              "      <td>1.000000</td>\n",
              "      <td>2.000000</td>\n",
              "      <td>4.000000</td>\n",
              "      <td>4.000000</td>\n",
              "    </tr>\n",
              "    <tr>\n",
              "      <th>75%</th>\n",
              "      <td>18.000000</td>\n",
              "      <td>4.000000</td>\n",
              "      <td>3.000000</td>\n",
              "      <td>2.000000</td>\n",
              "      <td>2.000000</td>\n",
              "      <td>0.000000</td>\n",
              "      <td>5.000000</td>\n",
              "      <td>4.000000</td>\n",
              "      <td>4.000000</td>\n",
              "      <td>2.000000</td>\n",
              "      <td>3.000000</td>\n",
              "      <td>5.000000</td>\n",
              "      <td>8.000000</td>\n",
              "    </tr>\n",
              "    <tr>\n",
              "      <th>max</th>\n",
              "      <td>22.000000</td>\n",
              "      <td>4.000000</td>\n",
              "      <td>4.000000</td>\n",
              "      <td>4.000000</td>\n",
              "      <td>4.000000</td>\n",
              "      <td>3.000000</td>\n",
              "      <td>5.000000</td>\n",
              "      <td>5.000000</td>\n",
              "      <td>5.000000</td>\n",
              "      <td>5.000000</td>\n",
              "      <td>5.000000</td>\n",
              "      <td>5.000000</td>\n",
              "      <td>75.000000</td>\n",
              "    </tr>\n",
              "  </tbody>\n",
              "</table>\n",
              "</div>"
            ],
            "text/plain": [
              "              age        Medu        Fedu  traveltime   studytime    failures  \\\n",
              "count  395.000000  395.000000  395.000000  395.000000  395.000000  395.000000   \n",
              "mean    16.696203    2.749367    2.521519    1.448101    2.035443    0.334177   \n",
              "std      1.276043    1.094735    1.088201    0.697505    0.839240    0.743651   \n",
              "min     15.000000    0.000000    0.000000    1.000000    1.000000    0.000000   \n",
              "25%     16.000000    2.000000    2.000000    1.000000    1.000000    0.000000   \n",
              "50%     17.000000    3.000000    2.000000    1.000000    2.000000    0.000000   \n",
              "75%     18.000000    4.000000    3.000000    2.000000    2.000000    0.000000   \n",
              "max     22.000000    4.000000    4.000000    4.000000    4.000000    3.000000   \n",
              "\n",
              "           famrel    freetime       goout        Dalc        Walc      health  \\\n",
              "count  395.000000  395.000000  395.000000  395.000000  395.000000  395.000000   \n",
              "mean     3.944304    3.235443    3.108861    1.481013    2.291139    3.554430   \n",
              "std      0.896659    0.998862    1.113278    0.890741    1.287897    1.390303   \n",
              "min      1.000000    1.000000    1.000000    1.000000    1.000000    1.000000   \n",
              "25%      4.000000    3.000000    2.000000    1.000000    1.000000    3.000000   \n",
              "50%      4.000000    3.000000    3.000000    1.000000    2.000000    4.000000   \n",
              "75%      5.000000    4.000000    4.000000    2.000000    3.000000    5.000000   \n",
              "max      5.000000    5.000000    5.000000    5.000000    5.000000    5.000000   \n",
              "\n",
              "         absences  \n",
              "count  395.000000  \n",
              "mean     5.708861  \n",
              "std      8.003096  \n",
              "min      0.000000  \n",
              "25%      0.000000  \n",
              "50%      4.000000  \n",
              "75%      8.000000  \n",
              "max     75.000000  "
            ]
          },
          "metadata": {
            "tags": []
          },
          "execution_count": 5
        }
      ]
    },
    {
      "cell_type": "code",
      "metadata": {
        "id": "gFVYZNAJtFUu",
        "outputId": "e5fc83cb-d0d5-4de3-f9aa-cf5cae5d8209"
      },
      "source": [
        "# SUMMARY OF THE OBJECT FEATURES OF THE DATASET\n",
        "stud_df.describe(include=['O'])"
      ],
      "execution_count": null,
      "outputs": [
        {
          "output_type": "execute_result",
          "data": {
            "text/html": [
              "<div>\n",
              "<style scoped>\n",
              "    .dataframe tbody tr th:only-of-type {\n",
              "        vertical-align: middle;\n",
              "    }\n",
              "\n",
              "    .dataframe tbody tr th {\n",
              "        vertical-align: top;\n",
              "    }\n",
              "\n",
              "    .dataframe thead th {\n",
              "        text-align: right;\n",
              "    }\n",
              "</style>\n",
              "<table border=\"1\" class=\"dataframe\">\n",
              "  <thead>\n",
              "    <tr style=\"text-align: right;\">\n",
              "      <th></th>\n",
              "      <th>school</th>\n",
              "      <th>sex</th>\n",
              "      <th>address</th>\n",
              "      <th>famsize</th>\n",
              "      <th>Pstatus</th>\n",
              "      <th>Mjob</th>\n",
              "      <th>Fjob</th>\n",
              "      <th>reason</th>\n",
              "      <th>guardian</th>\n",
              "      <th>schoolsup</th>\n",
              "      <th>famsup</th>\n",
              "      <th>paid</th>\n",
              "      <th>activities</th>\n",
              "      <th>nursery</th>\n",
              "      <th>higher</th>\n",
              "      <th>internet</th>\n",
              "      <th>romantic</th>\n",
              "      <th>passed</th>\n",
              "    </tr>\n",
              "  </thead>\n",
              "  <tbody>\n",
              "    <tr>\n",
              "      <th>count</th>\n",
              "      <td>395</td>\n",
              "      <td>395</td>\n",
              "      <td>395</td>\n",
              "      <td>395</td>\n",
              "      <td>395</td>\n",
              "      <td>395</td>\n",
              "      <td>395</td>\n",
              "      <td>395</td>\n",
              "      <td>395</td>\n",
              "      <td>395</td>\n",
              "      <td>395</td>\n",
              "      <td>395</td>\n",
              "      <td>395</td>\n",
              "      <td>395</td>\n",
              "      <td>395</td>\n",
              "      <td>395</td>\n",
              "      <td>395</td>\n",
              "      <td>395</td>\n",
              "    </tr>\n",
              "    <tr>\n",
              "      <th>unique</th>\n",
              "      <td>2</td>\n",
              "      <td>2</td>\n",
              "      <td>2</td>\n",
              "      <td>2</td>\n",
              "      <td>2</td>\n",
              "      <td>5</td>\n",
              "      <td>5</td>\n",
              "      <td>4</td>\n",
              "      <td>3</td>\n",
              "      <td>2</td>\n",
              "      <td>2</td>\n",
              "      <td>2</td>\n",
              "      <td>2</td>\n",
              "      <td>2</td>\n",
              "      <td>2</td>\n",
              "      <td>2</td>\n",
              "      <td>2</td>\n",
              "      <td>2</td>\n",
              "    </tr>\n",
              "    <tr>\n",
              "      <th>top</th>\n",
              "      <td>GP</td>\n",
              "      <td>F</td>\n",
              "      <td>U</td>\n",
              "      <td>GT3</td>\n",
              "      <td>T</td>\n",
              "      <td>other</td>\n",
              "      <td>other</td>\n",
              "      <td>course</td>\n",
              "      <td>mother</td>\n",
              "      <td>no</td>\n",
              "      <td>yes</td>\n",
              "      <td>no</td>\n",
              "      <td>yes</td>\n",
              "      <td>yes</td>\n",
              "      <td>yes</td>\n",
              "      <td>yes</td>\n",
              "      <td>no</td>\n",
              "      <td>yes</td>\n",
              "    </tr>\n",
              "    <tr>\n",
              "      <th>freq</th>\n",
              "      <td>349</td>\n",
              "      <td>208</td>\n",
              "      <td>307</td>\n",
              "      <td>281</td>\n",
              "      <td>354</td>\n",
              "      <td>141</td>\n",
              "      <td>217</td>\n",
              "      <td>145</td>\n",
              "      <td>273</td>\n",
              "      <td>344</td>\n",
              "      <td>242</td>\n",
              "      <td>214</td>\n",
              "      <td>201</td>\n",
              "      <td>314</td>\n",
              "      <td>375</td>\n",
              "      <td>329</td>\n",
              "      <td>263</td>\n",
              "      <td>265</td>\n",
              "    </tr>\n",
              "  </tbody>\n",
              "</table>\n",
              "</div>"
            ],
            "text/plain": [
              "       school  sex address famsize Pstatus   Mjob   Fjob  reason guardian  \\\n",
              "count     395  395     395     395     395    395    395     395      395   \n",
              "unique      2    2       2       2       2      5      5       4        3   \n",
              "top        GP    F       U     GT3       T  other  other  course   mother   \n",
              "freq      349  208     307     281     354    141    217     145      273   \n",
              "\n",
              "       schoolsup famsup paid activities nursery higher internet romantic  \\\n",
              "count        395    395  395        395     395    395      395      395   \n",
              "unique         2      2    2          2       2      2        2        2   \n",
              "top           no    yes   no        yes     yes    yes      yes       no   \n",
              "freq         344    242  214        201     314    375      329      263   \n",
              "\n",
              "       passed  \n",
              "count     395  \n",
              "unique      2  \n",
              "top       yes  \n",
              "freq      265  "
            ]
          },
          "metadata": {
            "tags": []
          },
          "execution_count": 6
        }
      ]
    },
    {
      "cell_type": "code",
      "metadata": {
        "id": "bBYEoxGGtFUu",
        "outputId": "c545e53e-eb7a-4acf-990c-c3ccf08971fe"
      },
      "source": [
        "stud_df.info()"
      ],
      "execution_count": null,
      "outputs": [
        {
          "output_type": "stream",
          "text": [
            "<class 'pandas.core.frame.DataFrame'>\n",
            "RangeIndex: 395 entries, 0 to 394\n",
            "Data columns (total 31 columns):\n",
            "school        395 non-null object\n",
            "sex           395 non-null object\n",
            "age           395 non-null int64\n",
            "address       395 non-null object\n",
            "famsize       395 non-null object\n",
            "Pstatus       395 non-null object\n",
            "Medu          395 non-null int64\n",
            "Fedu          395 non-null int64\n",
            "Mjob          395 non-null object\n",
            "Fjob          395 non-null object\n",
            "reason        395 non-null object\n",
            "guardian      395 non-null object\n",
            "traveltime    395 non-null int64\n",
            "studytime     395 non-null int64\n",
            "failures      395 non-null int64\n",
            "schoolsup     395 non-null object\n",
            "famsup        395 non-null object\n",
            "paid          395 non-null object\n",
            "activities    395 non-null object\n",
            "nursery       395 non-null object\n",
            "higher        395 non-null object\n",
            "internet      395 non-null object\n",
            "romantic      395 non-null object\n",
            "famrel        395 non-null int64\n",
            "freetime      395 non-null int64\n",
            "goout         395 non-null int64\n",
            "Dalc          395 non-null int64\n",
            "Walc          395 non-null int64\n",
            "health        395 non-null int64\n",
            "absences      395 non-null int64\n",
            "passed        395 non-null object\n",
            "dtypes: int64(13), object(18)\n",
            "memory usage: 95.7+ KB\n"
          ],
          "name": "stdout"
        }
      ]
    },
    {
      "cell_type": "code",
      "metadata": {
        "scrolled": true,
        "id": "1EoIMo92tFUv",
        "outputId": "d4ae69ba-998e-4846-a438-20a871a4a98f"
      },
      "source": [
        "# CHECKING THE VALUE COUNT OF THE TARGET VARIABLE\n",
        "stud_df['passed'].value_counts(normalize=True).plot.bar()"
      ],
      "execution_count": null,
      "outputs": [
        {
          "output_type": "execute_result",
          "data": {
            "text/plain": [
              "<matplotlib.axes._subplots.AxesSubplot at 0x1fe156b0c18>"
            ]
          },
          "metadata": {
            "tags": []
          },
          "execution_count": 8
        },
        {
          "output_type": "display_data",
          "data": {
            "image/png": "[encoded data removed]",
            "text/plain": [
              "<Figure size 432x288 with 1 Axes>"
            ]
          },
          "metadata": {
            "tags": [],
            "needs_background": "light"
          }
        }
      ]
    },
    {
      "cell_type": "code",
      "metadata": {
        "id": "EQxl5TIytFUv"
      },
      "source": [
        "stud_target = stud_df.iloc[:,-1].values"
      ],
      "execution_count": null,
      "outputs": []
    },
    {
      "cell_type": "code",
      "metadata": {
        "id": "zBwJF3HotFUv",
        "outputId": "0e11f2b6-dd3d-4bc8-b789-c6dc644c5be2"
      },
      "source": [
        "# TRANSFORMING THE TARGET VARIABLE INTO BINARY FORM THROUGH LABEL ENCODER\n",
        "# IMPORTING THE LIBRARY\n",
        "from sklearn.preprocessing import LabelEncoder\n",
        "le=LabelEncoder()\n",
        "cat_names = ['school','sex','address','famsize','Pstatus','schoolsup','famsup','paid','activities','nursery','higher','internet','romantic','passed']\n",
        "for i in cat_names:\n",
        "    stud_df[i]=le.fit_transform(stud_df[i])\n",
        "    #print(stud_df.head())\n",
        "    stud_df = pd.DataFrame(stud_df)\n",
        "\n",
        "print(stud_df.shape)\n",
        "print(\"Type of the dataset :\\n\",type(stud_df))\n",
        "print('\\n')\n",
        "print(\"features of the dataset:\\n\",stud_df.head())"
      ],
      "execution_count": null,
      "outputs": [
        {
          "output_type": "stream",
          "text": [
            "(395, 31)\n",
            "Type of the dataset :\n",
            " <class 'pandas.core.frame.DataFrame'>\n",
            "\n",
            "\n",
            "features of the dataset:\n",
            "    school  sex  age  address  famsize  Pstatus  Medu  Fedu     Mjob      Fjob  \\\n",
            "0       0    0   18        1        0        0     4     4  at_home   teacher   \n",
            "1       0    0   17        1        0        1     1     1  at_home     other   \n",
            "2       0    0   15        1        1        1     1     1  at_home     other   \n",
            "3       0    0   15        1        0        1     4     2   health  services   \n",
            "4       0    0   16        1        0        1     3     3    other     other   \n",
            "\n",
            "   ... internet romantic  famrel  freetime  goout  Dalc  Walc  health  \\\n",
            "0  ...        0        0       4         3      4     1     1       3   \n",
            "1  ...        1        0       5         3      3     1     1       3   \n",
            "2  ...        1        0       4         3      2     2     3       3   \n",
            "3  ...        1        1       3         2      2     1     1       5   \n",
            "4  ...        0        0       4         3      2     1     2       5   \n",
            "\n",
            "   absences  passed  \n",
            "0         6       0  \n",
            "1         4       0  \n",
            "2        10       1  \n",
            "3         2       1  \n",
            "4         4       1  \n",
            "\n",
            "[5 rows x 31 columns]\n"
          ],
          "name": "stdout"
        }
      ]
    },
    {
      "cell_type": "code",
      "metadata": {
        "id": "te2BBUOftFUv",
        "outputId": "8aacde97-b551-4cdd-ed93-22465f19de71"
      },
      "source": [
        "# VISUALIZING THE COUNTPLOT OF THE TARGET VARIABLE WITH FEATURES OF THE DATA\n",
        "sns.set(style='darkgrid')\n",
        "sns.factorplot(x='age',y='health',data=stud_df,kind='bar')"
      ],
      "execution_count": null,
      "outputs": [
        {
          "output_type": "execute_result",
          "data": {
            "text/plain": [
              "<seaborn.axisgrid.FacetGrid at 0x1fe13c03080>"
            ]
          },
          "metadata": {
            "tags": []
          },
          "execution_count": 11
        },
        {
          "output_type": "display_data",
          "data": {
            "image/png": "[encoded data removed]",
            "text/plain": [
              "<Figure size 360x360 with 1 Axes>"
            ]
          },
          "metadata": {
            "tags": []
          }
        }
      ]
    },
    {
      "cell_type": "code",
      "metadata": {
        "id": "91TwnDdLtFUv",
        "outputId": "a4b8ffac-34e7-413b-98cf-f92466321c51"
      },
      "source": [
        "sns.countplot(x='passed',hue='sex',data=stud_df)"
      ],
      "execution_count": null,
      "outputs": [
        {
          "output_type": "execute_result",
          "data": {
            "text/plain": [
              "<matplotlib.axes._subplots.AxesSubplot at 0x1fe15ad4748>"
            ]
          },
          "metadata": {
            "tags": []
          },
          "execution_count": 12
        },
        {
          "output_type": "display_data",
          "data": {
            "image/png": "[encoded data removed]",
            "text/plain": [
              "<Figure size 432x288 with 1 Axes>"
            ]
          },
          "metadata": {
            "tags": []
          }
        }
      ]
    },
    {
      "cell_type": "code",
      "metadata": {
        "id": "D7YccblxtFUv"
      },
      "source": [
        "# YES MEANS PASSED AND NO MEANS FAILED\n",
        "# IT IS CLEAR THAT FEMALE TENDS TO BE MORE FAILED THAN MEN"
      ],
      "execution_count": null,
      "outputs": []
    },
    {
      "cell_type": "code",
      "metadata": {
        "id": "QqFUEh6WtFUv",
        "outputId": "f7221101-434d-4e22-e966-35eeb6c8dc42"
      },
      "source": [
        "sns.countplot(x='internet',hue='passed',data=stud_df)"
      ],
      "execution_count": null,
      "outputs": [
        {
          "output_type": "execute_result",
          "data": {
            "text/plain": [
              "<matplotlib.axes._subplots.AxesSubplot at 0x1fe15b2ad68>"
            ]
          },
          "metadata": {
            "tags": []
          },
          "execution_count": 14
        },
        {
          "output_type": "display_data",
          "data": {
            "image/png": "[encoded data removed]",
            "text/plain": [
              "<Figure size 432x288 with 1 Axes>"
            ]
          },
          "metadata": {
            "tags": []
          }
        }
      ]
    },
    {
      "cell_type": "code",
      "metadata": {
        "id": "YGqznsbStFUw",
        "outputId": "52ce91a5-b4ca-48d4-a480-eaaf62a81a2d"
      },
      "source": [
        "# PRINTING THE VALUE_COUNTS OF THE CATEGORICAL FEATURE\n",
        "print(stud_df['Mjob'].value_counts())\n",
        "print('__'*40)\n",
        "print(stud_df['Fjob'].value_counts())\n",
        "print('__'*40)\n",
        "print(stud_df['reason'].value_counts())\n",
        "print('__'*40)\n",
        "print(stud_df['guardian'].value_counts())"
      ],
      "execution_count": null,
      "outputs": [
        {
          "output_type": "stream",
          "text": [
            "other       141\n",
            "services    103\n",
            "at_home      59\n",
            "teacher      58\n",
            "health       34\n",
            "Name: Mjob, dtype: int64\n",
            "________________________________________________________________________________\n",
            "other       217\n",
            "services    111\n",
            "teacher      29\n",
            "at_home      20\n",
            "health       18\n",
            "Name: Fjob, dtype: int64\n",
            "________________________________________________________________________________\n",
            "course        145\n",
            "home          109\n",
            "reputation    105\n",
            "other          36\n",
            "Name: reason, dtype: int64\n",
            "________________________________________________________________________________\n",
            "mother    273\n",
            "father     90\n",
            "other      32\n",
            "Name: guardian, dtype: int64\n"
          ],
          "name": "stdout"
        }
      ]
    },
    {
      "cell_type": "code",
      "metadata": {
        "id": "fvmvUR3jtFUw"
      },
      "source": [
        "Mjob_dummies=pd.get_dummies(stud_df['Mjob'],prefix='Mjob')\n",
        "Fjob_dummies=pd.get_dummies(stud_df['Fjob'],prefix='Fjob')\n",
        "reason_dummies=pd.get_dummies(stud_df['reason'],prefix='reason')\n",
        "guardian_dummies=pd.get_dummies(stud_df['guardian'],prefix='guardian')"
      ],
      "execution_count": null,
      "outputs": []
    },
    {
      "cell_type": "code",
      "metadata": {
        "id": "04QHnqZStFUw",
        "outputId": "44aa47c7-7838-4eeb-9ecf-c485d410522c"
      },
      "source": [
        "print(\"head of the Mjob dummies data :\\n\",Mjob_dummies.head())\n",
        "print(\"__\"*60)\n",
        "print(\"head of the Fjob dummies data :\\n\",Fjob_dummies.head())\n",
        "print(\"__\"*60)\n",
        "print(\"head of the reason dummies data :\\n\",reason_dummies.head())\n",
        "print(\"__\"*60)\n",
        "print(\"head of the guardian dummies data :\\n\",guardian_dummies.head())"
      ],
      "execution_count": null,
      "outputs": [
        {
          "output_type": "stream",
          "text": [
            "head of the Mjob dummies data :\n",
            "    Mjob_at_home  Mjob_health  Mjob_other  Mjob_services  Mjob_teacher\n",
            "0             1            0           0              0             0\n",
            "1             1            0           0              0             0\n",
            "2             1            0           0              0             0\n",
            "3             0            1           0              0             0\n",
            "4             0            0           1              0             0\n",
            "________________________________________________________________________________________________________________________\n",
            "head of the Fjob dummies data :\n",
            "    Fjob_at_home  Fjob_health  Fjob_other  Fjob_services  Fjob_teacher\n",
            "0             0            0           0              0             1\n",
            "1             0            0           1              0             0\n",
            "2             0            0           1              0             0\n",
            "3             0            0           0              1             0\n",
            "4             0            0           1              0             0\n",
            "________________________________________________________________________________________________________________________\n",
            "head of the reason dummies data :\n",
            "    reason_course  reason_home  reason_other  reason_reputation\n",
            "0              1            0             0                  0\n",
            "1              1            0             0                  0\n",
            "2              0            0             1                  0\n",
            "3              0            1             0                  0\n",
            "4              0            1             0                  0\n",
            "________________________________________________________________________________________________________________________\n",
            "head of the guardian dummies data :\n",
            "    guardian_father  guardian_mother  guardian_other\n",
            "0                0                1               0\n",
            "1                1                0               0\n",
            "2                0                1               0\n",
            "3                0                1               0\n",
            "4                1                0               0\n"
          ],
          "name": "stdout"
        }
      ]
    },
    {
      "cell_type": "code",
      "metadata": {
        "id": "hRwTo5IPtFUw",
        "outputId": "1bb4d7a6-90ea-483c-8295-14a77da64165"
      },
      "source": [
        "print(\"type of the stud_df :\\n\",type(stud_df))\n",
        "print(\"type of the stud_df :\\n\",type(stud_target))\n",
        "print(\"type of the dummies:\\n\",type(Mjob_dummies))\n",
        "print(\"type of the dummies:\\n\",type(Fjob_dummies))\n",
        "print(\"type of the dummies:\\n\",type(reason_dummies))\n",
        "print(\"type of the dummies:\\n\",type(guardian_dummies))"
      ],
      "execution_count": null,
      "outputs": [
        {
          "output_type": "stream",
          "text": [
            "type of the stud_df :\n",
            " <class 'pandas.core.frame.DataFrame'>\n",
            "type of the stud_df :\n",
            " <class 'numpy.ndarray'>\n",
            "type of the dummies:\n",
            " <class 'pandas.core.frame.DataFrame'>\n",
            "type of the dummies:\n",
            " <class 'pandas.core.frame.DataFrame'>\n",
            "type of the dummies:\n",
            " <class 'pandas.core.frame.DataFrame'>\n",
            "type of the dummies:\n",
            " <class 'pandas.core.frame.DataFrame'>\n"
          ],
          "name": "stdout"
        }
      ]
    },
    {
      "cell_type": "code",
      "metadata": {
        "id": "LTMVWr7jtFUw"
      },
      "source": [
        "stud_target = pd.DataFrame(stud_target)"
      ],
      "execution_count": null,
      "outputs": []
    },
    {
      "cell_type": "code",
      "metadata": {
        "id": "FjT2v6MBtFUw"
      },
      "source": [
        "stud_df = pd.concat([stud_df,stud_target],axis=1)"
      ],
      "execution_count": null,
      "outputs": []
    },
    {
      "cell_type": "code",
      "metadata": {
        "id": "V-ueeBu8tFUw"
      },
      "source": [
        "stud_df = pd.concat([stud_df,Mjob_dummies,Fjob_dummies,reason_dummies,guardian_dummies],axis=1)"
      ],
      "execution_count": null,
      "outputs": []
    },
    {
      "cell_type": "code",
      "metadata": {
        "scrolled": false,
        "id": "Odmw3WOmtFUw",
        "outputId": "a0901837-da25-412f-c689-706967f07bff"
      },
      "source": [
        "stud_df.head()"
      ],
      "execution_count": null,
      "outputs": [
        {
          "output_type": "execute_result",
          "data": {
            "text/html": [
              "<div>\n",
              "<style scoped>\n",
              "    .dataframe tbody tr th:only-of-type {\n",
              "        vertical-align: middle;\n",
              "    }\n",
              "\n",
              "    .dataframe tbody tr th {\n",
              "        vertical-align: top;\n",
              "    }\n",
              "\n",
              "    .dataframe thead th {\n",
              "        text-align: right;\n",
              "    }\n",
              "</style>\n",
              "<table border=\"1\" class=\"dataframe\">\n",
              "  <thead>\n",
              "    <tr style=\"text-align: right;\">\n",
              "      <th></th>\n",
              "      <th>school</th>\n",
              "      <th>sex</th>\n",
              "      <th>age</th>\n",
              "      <th>address</th>\n",
              "      <th>famsize</th>\n",
              "      <th>Pstatus</th>\n",
              "      <th>Medu</th>\n",
              "      <th>Fedu</th>\n",
              "      <th>Mjob</th>\n",
              "      <th>Fjob</th>\n",
              "      <th>...</th>\n",
              "      <th>Fjob_other</th>\n",
              "      <th>Fjob_services</th>\n",
              "      <th>Fjob_teacher</th>\n",
              "      <th>reason_course</th>\n",
              "      <th>reason_home</th>\n",
              "      <th>reason_other</th>\n",
              "      <th>reason_reputation</th>\n",
              "      <th>guardian_father</th>\n",
              "      <th>guardian_mother</th>\n",
              "      <th>guardian_other</th>\n",
              "    </tr>\n",
              "  </thead>\n",
              "  <tbody>\n",
              "    <tr>\n",
              "      <th>0</th>\n",
              "      <td>0</td>\n",
              "      <td>0</td>\n",
              "      <td>18</td>\n",
              "      <td>1</td>\n",
              "      <td>0</td>\n",
              "      <td>0</td>\n",
              "      <td>4</td>\n",
              "      <td>4</td>\n",
              "      <td>at_home</td>\n",
              "      <td>teacher</td>\n",
              "      <td>...</td>\n",
              "      <td>0</td>\n",
              "      <td>0</td>\n",
              "      <td>1</td>\n",
              "      <td>1</td>\n",
              "      <td>0</td>\n",
              "      <td>0</td>\n",
              "      <td>0</td>\n",
              "      <td>0</td>\n",
              "      <td>1</td>\n",
              "      <td>0</td>\n",
              "    </tr>\n",
              "    <tr>\n",
              "      <th>1</th>\n",
              "      <td>0</td>\n",
              "      <td>0</td>\n",
              "      <td>17</td>\n",
              "      <td>1</td>\n",
              "      <td>0</td>\n",
              "      <td>1</td>\n",
              "      <td>1</td>\n",
              "      <td>1</td>\n",
              "      <td>at_home</td>\n",
              "      <td>other</td>\n",
              "      <td>...</td>\n",
              "      <td>1</td>\n",
              "      <td>0</td>\n",
              "      <td>0</td>\n",
              "      <td>1</td>\n",
              "      <td>0</td>\n",
              "      <td>0</td>\n",
              "      <td>0</td>\n",
              "      <td>1</td>\n",
              "      <td>0</td>\n",
              "      <td>0</td>\n",
              "    </tr>\n",
              "    <tr>\n",
              "      <th>2</th>\n",
              "      <td>0</td>\n",
              "      <td>0</td>\n",
              "      <td>15</td>\n",
              "      <td>1</td>\n",
              "      <td>1</td>\n",
              "      <td>1</td>\n",
              "      <td>1</td>\n",
              "      <td>1</td>\n",
              "      <td>at_home</td>\n",
              "      <td>other</td>\n",
              "      <td>...</td>\n",
              "      <td>1</td>\n",
              "      <td>0</td>\n",
              "      <td>0</td>\n",
              "      <td>0</td>\n",
              "      <td>0</td>\n",
              "      <td>1</td>\n",
              "      <td>0</td>\n",
              "      <td>0</td>\n",
              "      <td>1</td>\n",
              "      <td>0</td>\n",
              "    </tr>\n",
              "    <tr>\n",
              "      <th>3</th>\n",
              "      <td>0</td>\n",
              "      <td>0</td>\n",
              "      <td>15</td>\n",
              "      <td>1</td>\n",
              "      <td>0</td>\n",
              "      <td>1</td>\n",
              "      <td>4</td>\n",
              "      <td>2</td>\n",
              "      <td>health</td>\n",
              "      <td>services</td>\n",
              "      <td>...</td>\n",
              "      <td>0</td>\n",
              "      <td>1</td>\n",
              "      <td>0</td>\n",
              "      <td>0</td>\n",
              "      <td>1</td>\n",
              "      <td>0</td>\n",
              "      <td>0</td>\n",
              "      <td>0</td>\n",
              "      <td>1</td>\n",
              "      <td>0</td>\n",
              "    </tr>\n",
              "    <tr>\n",
              "      <th>4</th>\n",
              "      <td>0</td>\n",
              "      <td>0</td>\n",
              "      <td>16</td>\n",
              "      <td>1</td>\n",
              "      <td>0</td>\n",
              "      <td>1</td>\n",
              "      <td>3</td>\n",
              "      <td>3</td>\n",
              "      <td>other</td>\n",
              "      <td>other</td>\n",
              "      <td>...</td>\n",
              "      <td>1</td>\n",
              "      <td>0</td>\n",
              "      <td>0</td>\n",
              "      <td>0</td>\n",
              "      <td>1</td>\n",
              "      <td>0</td>\n",
              "      <td>0</td>\n",
              "      <td>1</td>\n",
              "      <td>0</td>\n",
              "      <td>0</td>\n",
              "    </tr>\n",
              "  </tbody>\n",
              "</table>\n",
              "<p>5 rows × 49 columns</p>\n",
              "</div>"
            ],
            "text/plain": [
              "   school  sex  age  address  famsize  Pstatus  Medu  Fedu     Mjob      Fjob  \\\n",
              "0       0    0   18        1        0        0     4     4  at_home   teacher   \n",
              "1       0    0   17        1        0        1     1     1  at_home     other   \n",
              "2       0    0   15        1        1        1     1     1  at_home     other   \n",
              "3       0    0   15        1        0        1     4     2   health  services   \n",
              "4       0    0   16        1        0        1     3     3    other     other   \n",
              "\n",
              "   ... Fjob_other Fjob_services  Fjob_teacher  reason_course  reason_home  \\\n",
              "0  ...          0             0             1              1            0   \n",
              "1  ...          1             0             0              1            0   \n",
              "2  ...          1             0             0              0            0   \n",
              "3  ...          0             1             0              0            1   \n",
              "4  ...          1             0             0              0            1   \n",
              "\n",
              "   reason_other  reason_reputation  guardian_father  guardian_mother  \\\n",
              "0             0                  0                0                1   \n",
              "1             0                  0                1                0   \n",
              "2             1                  0                0                1   \n",
              "3             0                  0                0                1   \n",
              "4             0                  0                1                0   \n",
              "\n",
              "   guardian_other  \n",
              "0               0  \n",
              "1               0  \n",
              "2               0  \n",
              "3               0  \n",
              "4               0  \n",
              "\n",
              "[5 rows x 49 columns]"
            ]
          },
          "metadata": {
            "tags": []
          },
          "execution_count": 22
        }
      ]
    },
    {
      "cell_type": "code",
      "metadata": {
        "id": "qGwlxk9wtFUw"
      },
      "source": [
        "stud_df.drop(['Mjob','Fjob','reason','guardian',0],axis=1,inplace=True)"
      ],
      "execution_count": null,
      "outputs": []
    },
    {
      "cell_type": "code",
      "metadata": {
        "scrolled": true,
        "id": "zv_CkQ-jtFUw",
        "outputId": "c187d7f5-c8f9-4a4c-ff13-3afe97c38ad6"
      },
      "source": [
        "print(\"shape of the features of the data features:\\n\",stud_df.shape)\n",
        "print('__'*40)\n",
        "print(\"Info the features of the dataset:\\n\",stud_df.info())"
      ],
      "execution_count": null,
      "outputs": [
        {
          "output_type": "stream",
          "text": [
            "shape of the features of the data features:\n",
            " (395, 44)\n",
            "________________________________________________________________________________\n",
            "<class 'pandas.core.frame.DataFrame'>\n",
            "RangeIndex: 395 entries, 0 to 394\n",
            "Data columns (total 44 columns):\n",
            "school               395 non-null int32\n",
            "sex                  395 non-null int32\n",
            "age                  395 non-null int64\n",
            "address              395 non-null int32\n",
            "famsize              395 non-null int32\n",
            "Pstatus              395 non-null int32\n",
            "Medu                 395 non-null int64\n",
            "Fedu                 395 non-null int64\n",
            "traveltime           395 non-null int64\n",
            "studytime            395 non-null int64\n",
            "failures             395 non-null int64\n",
            "schoolsup            395 non-null int32\n",
            "famsup               395 non-null int32\n",
            "paid                 395 non-null int32\n",
            "activities           395 non-null int32\n",
            "nursery              395 non-null int32\n",
            "higher               395 non-null int32\n",
            "internet             395 non-null int32\n",
            "romantic             395 non-null int32\n",
            "famrel               395 non-null int64\n",
            "freetime             395 non-null int64\n",
            "goout                395 non-null int64\n",
            "Dalc                 395 non-null int64\n",
            "Walc                 395 non-null int64\n",
            "health               395 non-null int64\n",
            "absences             395 non-null int64\n",
            "passed               395 non-null int32\n",
            "Mjob_at_home         395 non-null uint8\n",
            "Mjob_health          395 non-null uint8\n",
            "Mjob_other           395 non-null uint8\n",
            "Mjob_services        395 non-null uint8\n",
            "Mjob_teacher         395 non-null uint8\n",
            "Fjob_at_home         395 non-null uint8\n",
            "Fjob_health          395 non-null uint8\n",
            "Fjob_other           395 non-null uint8\n",
            "Fjob_services        395 non-null uint8\n",
            "Fjob_teacher         395 non-null uint8\n",
            "reason_course        395 non-null uint8\n",
            "reason_home          395 non-null uint8\n",
            "reason_other         395 non-null uint8\n",
            "reason_reputation    395 non-null uint8\n",
            "guardian_father      395 non-null uint8\n",
            "guardian_mother      395 non-null uint8\n",
            "guardian_other       395 non-null uint8\n",
            "dtypes: int32(14), int64(13), uint8(17)\n",
            "memory usage: 68.4 KB\n",
            "Info the features of the dataset:\n",
            " None\n"
          ],
          "name": "stdout"
        }
      ]
    },
    {
      "cell_type": "code",
      "metadata": {
        "scrolled": true,
        "id": "KFU3sZAktFUx",
        "outputId": "e9d6d2a8-de0e-4636-baf1-fdfeefd637c6"
      },
      "source": [
        "# CORRELATION OF THE CONTINOUS FEATURES THROUGH HEATMAP\n",
        "cname = ['age','Medu','Fedu','traveltime','studytime','failures','famrel','freetime','goout','Dalc','Walc','health','absences','passed']\n",
        "corr_df = stud_df[cname].corr()\n",
        "corr_df"
      ],
      "execution_count": null,
      "outputs": [
        {
          "output_type": "execute_result",
          "data": {
            "text/html": [
              "<div>\n",
              "<style scoped>\n",
              "    .dataframe tbody tr th:only-of-type {\n",
              "        vertical-align: middle;\n",
              "    }\n",
              "\n",
              "    .dataframe tbody tr th {\n",
              "        vertical-align: top;\n",
              "    }\n",
              "\n",
              "    .dataframe thead th {\n",
              "        text-align: right;\n",
              "    }\n",
              "</style>\n",
              "<table border=\"1\" class=\"dataframe\">\n",
              "  <thead>\n",
              "    <tr style=\"text-align: right;\">\n",
              "      <th></th>\n",
              "      <th>age</th>\n",
              "      <th>Medu</th>\n",
              "      <th>Fedu</th>\n",
              "      <th>traveltime</th>\n",
              "      <th>studytime</th>\n",
              "      <th>failures</th>\n",
              "      <th>famrel</th>\n",
              "      <th>freetime</th>\n",
              "      <th>goout</th>\n",
              "      <th>Dalc</th>\n",
              "      <th>Walc</th>\n",
              "      <th>health</th>\n",
              "      <th>absences</th>\n",
              "      <th>passed</th>\n",
              "    </tr>\n",
              "  </thead>\n",
              "  <tbody>\n",
              "    <tr>\n",
              "      <th>age</th>\n",
              "      <td>1.000000</td>\n",
              "      <td>-0.163658</td>\n",
              "      <td>-0.163438</td>\n",
              "      <td>0.070641</td>\n",
              "      <td>-0.004140</td>\n",
              "      <td>0.243665</td>\n",
              "      <td>0.053940</td>\n",
              "      <td>0.016434</td>\n",
              "      <td>0.126964</td>\n",
              "      <td>0.131125</td>\n",
              "      <td>0.117276</td>\n",
              "      <td>-0.062187</td>\n",
              "      <td>0.175230</td>\n",
              "      <td>-0.179645</td>\n",
              "    </tr>\n",
              "    <tr>\n",
              "      <th>Medu</th>\n",
              "      <td>-0.163658</td>\n",
              "      <td>1.000000</td>\n",
              "      <td>0.623455</td>\n",
              "      <td>-0.171639</td>\n",
              "      <td>0.064944</td>\n",
              "      <td>-0.236680</td>\n",
              "      <td>-0.003914</td>\n",
              "      <td>0.030891</td>\n",
              "      <td>0.064094</td>\n",
              "      <td>0.019834</td>\n",
              "      <td>-0.047123</td>\n",
              "      <td>-0.046878</td>\n",
              "      <td>0.100285</td>\n",
              "      <td>0.115396</td>\n",
              "    </tr>\n",
              "    <tr>\n",
              "      <th>Fedu</th>\n",
              "      <td>-0.163438</td>\n",
              "      <td>0.623455</td>\n",
              "      <td>1.000000</td>\n",
              "      <td>-0.158194</td>\n",
              "      <td>-0.009175</td>\n",
              "      <td>-0.250408</td>\n",
              "      <td>-0.001370</td>\n",
              "      <td>-0.012846</td>\n",
              "      <td>0.043105</td>\n",
              "      <td>0.002386</td>\n",
              "      <td>-0.012631</td>\n",
              "      <td>0.014742</td>\n",
              "      <td>0.024473</td>\n",
              "      <td>0.108057</td>\n",
              "    </tr>\n",
              "    <tr>\n",
              "      <th>traveltime</th>\n",
              "      <td>0.070641</td>\n",
              "      <td>-0.171639</td>\n",
              "      <td>-0.158194</td>\n",
              "      <td>1.000000</td>\n",
              "      <td>-0.100909</td>\n",
              "      <td>0.092239</td>\n",
              "      <td>-0.016808</td>\n",
              "      <td>-0.017025</td>\n",
              "      <td>0.028540</td>\n",
              "      <td>0.138325</td>\n",
              "      <td>0.134116</td>\n",
              "      <td>0.007501</td>\n",
              "      <td>-0.012944</td>\n",
              "      <td>-0.044446</td>\n",
              "    </tr>\n",
              "    <tr>\n",
              "      <th>studytime</th>\n",
              "      <td>-0.004140</td>\n",
              "      <td>0.064944</td>\n",
              "      <td>-0.009175</td>\n",
              "      <td>-0.100909</td>\n",
              "      <td>1.000000</td>\n",
              "      <td>-0.173563</td>\n",
              "      <td>0.039731</td>\n",
              "      <td>-0.143198</td>\n",
              "      <td>-0.063904</td>\n",
              "      <td>-0.196019</td>\n",
              "      <td>-0.253785</td>\n",
              "      <td>-0.075616</td>\n",
              "      <td>-0.062700</td>\n",
              "      <td>0.074613</td>\n",
              "    </tr>\n",
              "    <tr>\n",
              "      <th>failures</th>\n",
              "      <td>0.243665</td>\n",
              "      <td>-0.236680</td>\n",
              "      <td>-0.250408</td>\n",
              "      <td>0.092239</td>\n",
              "      <td>-0.173563</td>\n",
              "      <td>1.000000</td>\n",
              "      <td>-0.044337</td>\n",
              "      <td>0.091987</td>\n",
              "      <td>0.124561</td>\n",
              "      <td>0.136047</td>\n",
              "      <td>0.141962</td>\n",
              "      <td>0.065827</td>\n",
              "      <td>0.063726</td>\n",
              "      <td>-0.337731</td>\n",
              "    </tr>\n",
              "    <tr>\n",
              "      <th>famrel</th>\n",
              "      <td>0.053940</td>\n",
              "      <td>-0.003914</td>\n",
              "      <td>-0.001370</td>\n",
              "      <td>-0.016808</td>\n",
              "      <td>0.039731</td>\n",
              "      <td>-0.044337</td>\n",
              "      <td>1.000000</td>\n",
              "      <td>0.150701</td>\n",
              "      <td>0.064568</td>\n",
              "      <td>-0.077594</td>\n",
              "      <td>-0.113397</td>\n",
              "      <td>0.094056</td>\n",
              "      <td>-0.044354</td>\n",
              "      <td>0.046683</td>\n",
              "    </tr>\n",
              "    <tr>\n",
              "      <th>freetime</th>\n",
              "      <td>0.016434</td>\n",
              "      <td>0.030891</td>\n",
              "      <td>-0.012846</td>\n",
              "      <td>-0.017025</td>\n",
              "      <td>-0.143198</td>\n",
              "      <td>0.091987</td>\n",
              "      <td>0.150701</td>\n",
              "      <td>1.000000</td>\n",
              "      <td>0.285019</td>\n",
              "      <td>0.209001</td>\n",
              "      <td>0.147822</td>\n",
              "      <td>0.075733</td>\n",
              "      <td>-0.058078</td>\n",
              "      <td>-0.018321</td>\n",
              "    </tr>\n",
              "    <tr>\n",
              "      <th>goout</th>\n",
              "      <td>0.126964</td>\n",
              "      <td>0.064094</td>\n",
              "      <td>0.043105</td>\n",
              "      <td>0.028540</td>\n",
              "      <td>-0.063904</td>\n",
              "      <td>0.124561</td>\n",
              "      <td>0.064568</td>\n",
              "      <td>0.285019</td>\n",
              "      <td>1.000000</td>\n",
              "      <td>0.266994</td>\n",
              "      <td>0.420386</td>\n",
              "      <td>-0.009577</td>\n",
              "      <td>0.044302</td>\n",
              "      <td>-0.183399</td>\n",
              "    </tr>\n",
              "    <tr>\n",
              "      <th>Dalc</th>\n",
              "      <td>0.131125</td>\n",
              "      <td>0.019834</td>\n",
              "      <td>0.002386</td>\n",
              "      <td>0.138325</td>\n",
              "      <td>-0.196019</td>\n",
              "      <td>0.136047</td>\n",
              "      <td>-0.077594</td>\n",
              "      <td>0.209001</td>\n",
              "      <td>0.266994</td>\n",
              "      <td>1.000000</td>\n",
              "      <td>0.647544</td>\n",
              "      <td>0.077180</td>\n",
              "      <td>0.111908</td>\n",
              "      <td>-0.057343</td>\n",
              "    </tr>\n",
              "    <tr>\n",
              "      <th>Walc</th>\n",
              "      <td>0.117276</td>\n",
              "      <td>-0.047123</td>\n",
              "      <td>-0.012631</td>\n",
              "      <td>0.134116</td>\n",
              "      <td>-0.253785</td>\n",
              "      <td>0.141962</td>\n",
              "      <td>-0.113397</td>\n",
              "      <td>0.147822</td>\n",
              "      <td>0.420386</td>\n",
              "      <td>0.647544</td>\n",
              "      <td>1.000000</td>\n",
              "      <td>0.092476</td>\n",
              "      <td>0.136291</td>\n",
              "      <td>-0.029957</td>\n",
              "    </tr>\n",
              "    <tr>\n",
              "      <th>health</th>\n",
              "      <td>-0.062187</td>\n",
              "      <td>-0.046878</td>\n",
              "      <td>0.014742</td>\n",
              "      <td>0.007501</td>\n",
              "      <td>-0.075616</td>\n",
              "      <td>0.065827</td>\n",
              "      <td>0.094056</td>\n",
              "      <td>0.075733</td>\n",
              "      <td>-0.009577</td>\n",
              "      <td>0.077180</td>\n",
              "      <td>0.092476</td>\n",
              "      <td>1.000000</td>\n",
              "      <td>-0.029937</td>\n",
              "      <td>-0.065668</td>\n",
              "    </tr>\n",
              "    <tr>\n",
              "      <th>absences</th>\n",
              "      <td>0.175230</td>\n",
              "      <td>0.100285</td>\n",
              "      <td>0.024473</td>\n",
              "      <td>-0.012944</td>\n",
              "      <td>-0.062700</td>\n",
              "      <td>0.063726</td>\n",
              "      <td>-0.044354</td>\n",
              "      <td>-0.058078</td>\n",
              "      <td>0.044302</td>\n",
              "      <td>0.111908</td>\n",
              "      <td>0.136291</td>\n",
              "      <td>-0.029937</td>\n",
              "      <td>1.000000</td>\n",
              "      <td>-0.092244</td>\n",
              "    </tr>\n",
              "    <tr>\n",
              "      <th>passed</th>\n",
              "      <td>-0.179645</td>\n",
              "      <td>0.115396</td>\n",
              "      <td>0.108057</td>\n",
              "      <td>-0.044446</td>\n",
              "      <td>0.074613</td>\n",
              "      <td>-0.337731</td>\n",
              "      <td>0.046683</td>\n",
              "      <td>-0.018321</td>\n",
              "      <td>-0.183399</td>\n",
              "      <td>-0.057343</td>\n",
              "      <td>-0.029957</td>\n",
              "      <td>-0.065668</td>\n",
              "      <td>-0.092244</td>\n",
              "      <td>1.000000</td>\n",
              "    </tr>\n",
              "  </tbody>\n",
              "</table>\n",
              "</div>"
            ],
            "text/plain": [
              "                 age      Medu      Fedu  traveltime  studytime  failures  \\\n",
              "age         1.000000 -0.163658 -0.163438    0.070641  -0.004140  0.243665   \n",
              "Medu       -0.163658  1.000000  0.623455   -0.171639   0.064944 -0.236680   \n",
              "Fedu       -0.163438  0.623455  1.000000   -0.158194  -0.009175 -0.250408   \n",
              "traveltime  0.070641 -0.171639 -0.158194    1.000000  -0.100909  0.092239   \n",
              "studytime  -0.004140  0.064944 -0.009175   -0.100909   1.000000 -0.173563   \n",
              "failures    0.243665 -0.236680 -0.250408    0.092239  -0.173563  1.000000   \n",
              "famrel      0.053940 -0.003914 -0.001370   -0.016808   0.039731 -0.044337   \n",
              "freetime    0.016434  0.030891 -0.012846   -0.017025  -0.143198  0.091987   \n",
              "goout       0.126964  0.064094  0.043105    0.028540  -0.063904  0.124561   \n",
              "Dalc        0.131125  0.019834  0.002386    0.138325  -0.196019  0.136047   \n",
              "Walc        0.117276 -0.047123 -0.012631    0.134116  -0.253785  0.141962   \n",
              "health     -0.062187 -0.046878  0.014742    0.007501  -0.075616  0.065827   \n",
              "absences    0.175230  0.100285  0.024473   -0.012944  -0.062700  0.063726   \n",
              "passed     -0.179645  0.115396  0.108057   -0.044446   0.074613 -0.337731   \n",
              "\n",
              "              famrel  freetime     goout      Dalc      Walc    health  \\\n",
              "age         0.053940  0.016434  0.126964  0.131125  0.117276 -0.062187   \n",
              "Medu       -0.003914  0.030891  0.064094  0.019834 -0.047123 -0.046878   \n",
              "Fedu       -0.001370 -0.012846  0.043105  0.002386 -0.012631  0.014742   \n",
              "traveltime -0.016808 -0.017025  0.028540  0.138325  0.134116  0.007501   \n",
              "studytime   0.039731 -0.143198 -0.063904 -0.196019 -0.253785 -0.075616   \n",
              "failures   -0.044337  0.091987  0.124561  0.136047  0.141962  0.065827   \n",
              "famrel      1.000000  0.150701  0.064568 -0.077594 -0.113397  0.094056   \n",
              "freetime    0.150701  1.000000  0.285019  0.209001  0.147822  0.075733   \n",
              "goout       0.064568  0.285019  1.000000  0.266994  0.420386 -0.009577   \n",
              "Dalc       -0.077594  0.209001  0.266994  1.000000  0.647544  0.077180   \n",
              "Walc       -0.113397  0.147822  0.420386  0.647544  1.000000  0.092476   \n",
              "health      0.094056  0.075733 -0.009577  0.077180  0.092476  1.000000   \n",
              "absences   -0.044354 -0.058078  0.044302  0.111908  0.136291 -0.029937   \n",
              "passed      0.046683 -0.018321 -0.183399 -0.057343 -0.029957 -0.065668   \n",
              "\n",
              "            absences    passed  \n",
              "age         0.175230 -0.179645  \n",
              "Medu        0.100285  0.115396  \n",
              "Fedu        0.024473  0.108057  \n",
              "traveltime -0.012944 -0.044446  \n",
              "studytime  -0.062700  0.074613  \n",
              "failures    0.063726 -0.337731  \n",
              "famrel     -0.044354  0.046683  \n",
              "freetime   -0.058078 -0.018321  \n",
              "goout       0.044302 -0.183399  \n",
              "Dalc        0.111908 -0.057343  \n",
              "Walc        0.136291 -0.029957  \n",
              "health     -0.029937 -0.065668  \n",
              "absences    1.000000 -0.092244  \n",
              "passed     -0.092244  1.000000  "
            ]
          },
          "metadata": {
            "tags": []
          },
          "execution_count": 25
        }
      ]
    },
    {
      "cell_type": "code",
      "metadata": {
        "id": "09ghDrMvtFUx",
        "outputId": "547a2e59-f36b-49bd-bd69-542aa1d9ca2a"
      },
      "source": [
        "f,ax=plt.subplots(figsize=(15,12))\n",
        "sns.heatmap(corr_df,annot=True)"
      ],
      "execution_count": null,
      "outputs": [
        {
          "output_type": "execute_result",
          "data": {
            "text/plain": [
              "<matplotlib.axes._subplots.AxesSubplot at 0x1fe15bab080>"
            ]
          },
          "metadata": {
            "tags": []
          },
          "execution_count": 26
        },
        {
          "output_type": "display_data",
          "data": {
            "image/png": "[encoded data removed]",
            "text/plain": [
              "<Figure size 1080x864 with 2 Axes>"
            ]
          },
          "metadata": {
            "tags": []
          }
        }
      ]
    },
    {
      "cell_type": "code",
      "metadata": {
        "id": "8AcicDOYtFUz"
      },
      "source": [
        "# FROM THE HEATMAP IT IS CLEAR THAT FEATURE FEDU , MEDU AND FAILURES ARE NEGATIVELY CORRELATED TO EACH OTHER"
      ],
      "execution_count": null,
      "outputs": []
    },
    {
      "cell_type": "code",
      "metadata": {
        "id": "Qln6HrrftFUz"
      },
      "source": [
        "stud_df['Mjob_at_home']=stud_df['Mjob_at_home'].astype(\"int64\")\n",
        "stud_df['Mjob_health']=stud_df['Mjob_health'].astype(\"int64\")\n",
        "stud_df['Mjob_other']=stud_df['Mjob_other'].astype(\"int64\")\n",
        "stud_df['Mjob_services']=stud_df['Mjob_services'].astype(\"int64\")\n",
        "stud_df['Mjob_teacher']=stud_df['Mjob_teacher'].astype(\"int64\")\n",
        "stud_df['Fjob_at_home']=stud_df['Fjob_at_home'].astype(\"int64\")\n",
        "stud_df['Fjob_health']=stud_df['Fjob_health'].astype(\"int64\")\n",
        "stud_df['Fjob_other']=stud_df['Fjob_other'].astype(\"int64\")\n",
        "stud_df['Fjob_services']=stud_df['Fjob_services'].astype(\"int64\")\n",
        "stud_df['Fjob_teacher']=stud_df['Fjob_teacher'].astype(\"int64\")"
      ],
      "execution_count": null,
      "outputs": []
    },
    {
      "cell_type": "code",
      "metadata": {
        "id": "j_zXpRHLtFUz",
        "outputId": "a1f753d3-dbcb-4920-ba5b-014e74398247"
      },
      "source": [
        "stud_df['reason_course']=stud_df['reason_course'].astype(\"int64\")\n",
        "stud_df['reason_home']=stud_df['reason_home'].astype(\"int64\")\n",
        "stud_df['reason_other']=stud_df['reason_other'].astype(\"int64\")\n",
        "stud_df['reason_reputation']=stud_df['reason_reputation'].astype(\"int64\")\n",
        "stud_df['guardian_father']=stud_df['guardian_father'].astype(\"int64\")\n",
        "stud_df['guardian_mother']=stud_df['guardian_mother'].astype(\"int64\")\n",
        "stud_df['guardian_other']=stud_df['guardian_other'].astype(\"int64\")\n",
        "print(\"Info the features of the dataset:\\n\",stud_df.info())"
      ],
      "execution_count": null,
      "outputs": [
        {
          "output_type": "stream",
          "text": [
            "<class 'pandas.core.frame.DataFrame'>\n",
            "RangeIndex: 395 entries, 0 to 394\n",
            "Data columns (total 44 columns):\n",
            "school               395 non-null int32\n",
            "sex                  395 non-null int32\n",
            "age                  395 non-null int64\n",
            "address              395 non-null int32\n",
            "famsize              395 non-null int32\n",
            "Pstatus              395 non-null int32\n",
            "Medu                 395 non-null int64\n",
            "Fedu                 395 non-null int64\n",
            "traveltime           395 non-null int64\n",
            "studytime            395 non-null int64\n",
            "failures             395 non-null int64\n",
            "schoolsup            395 non-null int32\n",
            "famsup               395 non-null int32\n",
            "paid                 395 non-null int32\n",
            "activities           395 non-null int32\n",
            "nursery              395 non-null int32\n",
            "higher               395 non-null int32\n",
            "internet             395 non-null int32\n",
            "romantic             395 non-null int32\n",
            "famrel               395 non-null int64\n",
            "freetime             395 non-null int64\n",
            "goout                395 non-null int64\n",
            "Dalc                 395 non-null int64\n",
            "Walc                 395 non-null int64\n",
            "health               395 non-null int64\n",
            "absences             395 non-null int64\n",
            "passed               395 non-null int32\n",
            "Mjob_at_home         395 non-null int64\n",
            "Mjob_health          395 non-null int64\n",
            "Mjob_other           395 non-null int64\n",
            "Mjob_services        395 non-null int64\n",
            "Mjob_teacher         395 non-null int64\n",
            "Fjob_at_home         395 non-null int64\n",
            "Fjob_health          395 non-null int64\n",
            "Fjob_other           395 non-null int64\n",
            "Fjob_services        395 non-null int64\n",
            "Fjob_teacher         395 non-null int64\n",
            "reason_course        395 non-null int64\n",
            "reason_home          395 non-null int64\n",
            "reason_other         395 non-null int64\n",
            "reason_reputation    395 non-null int64\n",
            "guardian_father      395 non-null int64\n",
            "guardian_mother      395 non-null int64\n",
            "guardian_other       395 non-null int64\n",
            "dtypes: int32(14), int64(30)\n",
            "memory usage: 114.3 KB\n",
            "Info the features of the dataset:\n",
            " None\n"
          ],
          "name": "stdout"
        }
      ]
    },
    {
      "cell_type": "code",
      "metadata": {
        "id": "V1ZM6t_atFUz",
        "outputId": "12bd6a97-3a3a-49d2-c0f1-6bf0f81bf98a"
      },
      "source": [
        "# CHECKING FOR THE CORRELATION OF CATEGORICAL FEATURES\n",
        "# IMPORTING THE LIBRARY\n",
        "from scipy.stats import chi2_contingency\n",
        "cat_name = ['school','sex','address','famsize','Pstatus','schoolsup','famsup','paid','activities','nursery','higher','internet','romantic','passed']\n",
        "for i in cat_name:\n",
        "    chi2,p,dof,ex = chi2_contingency(pd.crosstab(stud_df['passed'],stud_df[i]))\n",
        "    print(p)\n",
        "    "
      ],
      "execution_count": null,
      "outputs": [
        {
          "output_type": "stream",
          "text": [
            "0.6496520320478856\n",
            "0.19488312384342535\n",
            "0.36259725500729156\n",
            "0.47557425845124546\n",
            "0.483964650286848\n",
            "0.06799816590050815\n",
            "0.2859479949107493\n",
            "0.08287639010664817\n",
            "0.8889514378601399\n",
            "0.9665274166728246\n",
            "0.003850210443867274\n",
            "0.2781223614805821\n",
            "0.06740351881393333\n",
            "6.494113725639884e-87\n"
          ],
          "name": "stdout"
        }
      ]
    },
    {
      "cell_type": "code",
      "metadata": {
        "id": "n_gJWuu-tFUz"
      },
      "source": [
        "# SPILLTING THE DATASET INTO INDEPENDENT : X AND DEPENDENT : Y VARIABLES\n",
        "x = stud_df.drop('passed',axis=1)\n",
        "y = stud_df['passed']"
      ],
      "execution_count": null,
      "outputs": []
    },
    {
      "cell_type": "code",
      "metadata": {
        "id": "RZMHF7OutFUz"
      },
      "source": [
        "# SCALING THE DATASET THROUGH STANDARD SCALER\n",
        "# IMPORTING THE LIBRARY\n",
        "from sklearn.preprocessing import StandardScaler\n",
        "sc = StandardScaler()\n",
        "x = sc.fit_transform(x)\n",
        "x = pd.DataFrame(x)"
      ],
      "execution_count": null,
      "outputs": []
    },
    {
      "cell_type": "code",
      "metadata": {
        "scrolled": false,
        "id": "Ze1vx3TVtFUz",
        "outputId": "56134c6e-e117-4530-e11e-2632075f9d93"
      },
      "source": [
        "x.head()"
      ],
      "execution_count": null,
      "outputs": [
        {
          "output_type": "execute_result",
          "data": {
            "text/html": [
              "<div>\n",
              "<style scoped>\n",
              "    .dataframe tbody tr th:only-of-type {\n",
              "        vertical-align: middle;\n",
              "    }\n",
              "\n",
              "    .dataframe tbody tr th {\n",
              "        vertical-align: top;\n",
              "    }\n",
              "\n",
              "    .dataframe thead th {\n",
              "        text-align: right;\n",
              "    }\n",
              "</style>\n",
              "<table border=\"1\" class=\"dataframe\">\n",
              "  <thead>\n",
              "    <tr style=\"text-align: right;\">\n",
              "      <th></th>\n",
              "      <th>0</th>\n",
              "      <th>1</th>\n",
              "      <th>2</th>\n",
              "      <th>3</th>\n",
              "      <th>4</th>\n",
              "      <th>5</th>\n",
              "      <th>6</th>\n",
              "      <th>7</th>\n",
              "      <th>8</th>\n",
              "      <th>9</th>\n",
              "      <th>...</th>\n",
              "      <th>33</th>\n",
              "      <th>34</th>\n",
              "      <th>35</th>\n",
              "      <th>36</th>\n",
              "      <th>37</th>\n",
              "      <th>38</th>\n",
              "      <th>39</th>\n",
              "      <th>40</th>\n",
              "      <th>41</th>\n",
              "      <th>42</th>\n",
              "    </tr>\n",
              "  </thead>\n",
              "  <tbody>\n",
              "    <tr>\n",
              "      <th>0</th>\n",
              "      <td>-0.36305</td>\n",
              "      <td>-0.948176</td>\n",
              "      <td>1.023046</td>\n",
              "      <td>0.535392</td>\n",
              "      <td>-0.636941</td>\n",
              "      <td>-2.938392</td>\n",
              "      <td>1.143856</td>\n",
              "      <td>1.360371</td>\n",
              "      <td>0.792251</td>\n",
              "      <td>-0.042286</td>\n",
              "      <td>...</td>\n",
              "      <td>-1.104129</td>\n",
              "      <td>-0.625176</td>\n",
              "      <td>3.552561</td>\n",
              "      <td>1.313064</td>\n",
              "      <td>-0.617348</td>\n",
              "      <td>-0.316668</td>\n",
              "      <td>-0.601722</td>\n",
              "      <td>-0.543214</td>\n",
              "      <td>0.668496</td>\n",
              "      <td>-0.296908</td>\n",
              "    </tr>\n",
              "    <tr>\n",
              "      <th>1</th>\n",
              "      <td>-0.36305</td>\n",
              "      <td>-0.948176</td>\n",
              "      <td>0.238380</td>\n",
              "      <td>0.535392</td>\n",
              "      <td>-0.636941</td>\n",
              "      <td>0.340322</td>\n",
              "      <td>-1.600009</td>\n",
              "      <td>-1.399970</td>\n",
              "      <td>-0.643249</td>\n",
              "      <td>-0.042286</td>\n",
              "      <td>...</td>\n",
              "      <td>0.905691</td>\n",
              "      <td>-0.625176</td>\n",
              "      <td>-0.281487</td>\n",
              "      <td>1.313064</td>\n",
              "      <td>-0.617348</td>\n",
              "      <td>-0.316668</td>\n",
              "      <td>-0.601722</td>\n",
              "      <td>1.840894</td>\n",
              "      <td>-1.495896</td>\n",
              "      <td>-0.296908</td>\n",
              "    </tr>\n",
              "    <tr>\n",
              "      <th>2</th>\n",
              "      <td>-0.36305</td>\n",
              "      <td>-0.948176</td>\n",
              "      <td>-1.330954</td>\n",
              "      <td>0.535392</td>\n",
              "      <td>1.570004</td>\n",
              "      <td>0.340322</td>\n",
              "      <td>-1.600009</td>\n",
              "      <td>-1.399970</td>\n",
              "      <td>-0.643249</td>\n",
              "      <td>-0.042286</td>\n",
              "      <td>...</td>\n",
              "      <td>0.905691</td>\n",
              "      <td>-0.625176</td>\n",
              "      <td>-0.281487</td>\n",
              "      <td>-0.761577</td>\n",
              "      <td>-0.617348</td>\n",
              "      <td>3.157883</td>\n",
              "      <td>-0.601722</td>\n",
              "      <td>-0.543214</td>\n",
              "      <td>0.668496</td>\n",
              "      <td>-0.296908</td>\n",
              "    </tr>\n",
              "    <tr>\n",
              "      <th>3</th>\n",
              "      <td>-0.36305</td>\n",
              "      <td>-0.948176</td>\n",
              "      <td>-1.330954</td>\n",
              "      <td>0.535392</td>\n",
              "      <td>-0.636941</td>\n",
              "      <td>0.340322</td>\n",
              "      <td>1.143856</td>\n",
              "      <td>-0.479857</td>\n",
              "      <td>-0.643249</td>\n",
              "      <td>1.150779</td>\n",
              "      <td>...</td>\n",
              "      <td>-1.104129</td>\n",
              "      <td>1.599549</td>\n",
              "      <td>-0.281487</td>\n",
              "      <td>-0.761577</td>\n",
              "      <td>1.619831</td>\n",
              "      <td>-0.316668</td>\n",
              "      <td>-0.601722</td>\n",
              "      <td>-0.543214</td>\n",
              "      <td>0.668496</td>\n",
              "      <td>-0.296908</td>\n",
              "    </tr>\n",
              "    <tr>\n",
              "      <th>4</th>\n",
              "      <td>-0.36305</td>\n",
              "      <td>-0.948176</td>\n",
              "      <td>-0.546287</td>\n",
              "      <td>0.535392</td>\n",
              "      <td>-0.636941</td>\n",
              "      <td>0.340322</td>\n",
              "      <td>0.229234</td>\n",
              "      <td>0.440257</td>\n",
              "      <td>-0.643249</td>\n",
              "      <td>-0.042286</td>\n",
              "      <td>...</td>\n",
              "      <td>0.905691</td>\n",
              "      <td>-0.625176</td>\n",
              "      <td>-0.281487</td>\n",
              "      <td>-0.761577</td>\n",
              "      <td>1.619831</td>\n",
              "      <td>-0.316668</td>\n",
              "      <td>-0.601722</td>\n",
              "      <td>1.840894</td>\n",
              "      <td>-1.495896</td>\n",
              "      <td>-0.296908</td>\n",
              "    </tr>\n",
              "  </tbody>\n",
              "</table>\n",
              "<p>5 rows × 43 columns</p>\n",
              "</div>"
            ],
            "text/plain": [
              "        0         1         2         3         4         5         6   \\\n",
              "0 -0.36305 -0.948176  1.023046  0.535392 -0.636941 -2.938392  1.143856   \n",
              "1 -0.36305 -0.948176  0.238380  0.535392 -0.636941  0.340322 -1.600009   \n",
              "2 -0.36305 -0.948176 -1.330954  0.535392  1.570004  0.340322 -1.600009   \n",
              "3 -0.36305 -0.948176 -1.330954  0.535392 -0.636941  0.340322  1.143856   \n",
              "4 -0.36305 -0.948176 -0.546287  0.535392 -0.636941  0.340322  0.229234   \n",
              "\n",
              "         7         8         9   ...        33        34        35        36  \\\n",
              "0  1.360371  0.792251 -0.042286  ... -1.104129 -0.625176  3.552561  1.313064   \n",
              "1 -1.399970 -0.643249 -0.042286  ...  0.905691 -0.625176 -0.281487  1.313064   \n",
              "2 -1.399970 -0.643249 -0.042286  ...  0.905691 -0.625176 -0.281487 -0.761577   \n",
              "3 -0.479857 -0.643249  1.150779  ... -1.104129  1.599549 -0.281487 -0.761577   \n",
              "4  0.440257 -0.643249 -0.042286  ...  0.905691 -0.625176 -0.281487 -0.761577   \n",
              "\n",
              "         37        38        39        40        41        42  \n",
              "0 -0.617348 -0.316668 -0.601722 -0.543214  0.668496 -0.296908  \n",
              "1 -0.617348 -0.316668 -0.601722  1.840894 -1.495896 -0.296908  \n",
              "2 -0.617348  3.157883 -0.601722 -0.543214  0.668496 -0.296908  \n",
              "3  1.619831 -0.316668 -0.601722 -0.543214  0.668496 -0.296908  \n",
              "4  1.619831 -0.316668 -0.601722  1.840894 -1.495896 -0.296908  \n",
              "\n",
              "[5 rows x 43 columns]"
            ]
          },
          "metadata": {
            "tags": []
          },
          "execution_count": 33
        }
      ]
    },
    {
      "cell_type": "code",
      "metadata": {
        "id": "xmNrgWGutFU0"
      },
      "source": [
        "# IMPORTING TRAIN _TEST SPLIT AS THE DATA IS LESS AND FEATURES ARE MORE\n",
        "# IMPORTING THE LIBRARY\n",
        "from sklearn.model_selection import train_test_split\n",
        "x_train,x_test,y_train,y_test = train_test_split(x,y,test_size=0.20,random_state=47,stratify=y)"
      ],
      "execution_count": null,
      "outputs": []
    },
    {
      "cell_type": "code",
      "metadata": {
        "id": "MZbpiOl4tFU0"
      },
      "source": [
        "# MODELS\n",
        "# IMPORTING THE LIBRARIES\n",
        "from sklearn.linear_model import LogisticRegression\n",
        "from sklearn.tree import DecisionTreeClassifier\n",
        "from sklearn.ensemble import RandomForestClassifier\n",
        "from sklearn.svm import SVC"
      ],
      "execution_count": null,
      "outputs": []
    },
    {
      "cell_type": "code",
      "metadata": {
        "id": "1B4zoVl2tFU0"
      },
      "source": [
        "lg = LogisticRegression(random_state=47)\n",
        "dtc = DecisionTreeClassifier(criterion='gini',random_state=47,max_depth=3)\n",
        "rf = RandomForestClassifier(n_estimators=10,random_state=47,n_jobs=-1,max_depth=3)\n",
        "svc = SVC(random_state=47)"
      ],
      "execution_count": null,
      "outputs": []
    },
    {
      "cell_type": "code",
      "metadata": {
        "id": "SL8p2zUltFU0"
      },
      "source": [
        "def train_classifier(clf, x_train, y_train):\n",
        "    # FITTING THE CLASSIFIER ON THE TRAINING DATA\n",
        "\n",
        "    # CALCULATING THE TIME OF THE MODEL TO FIT THROUGH TIME FUNCTION\n",
        "    start = time()\n",
        "    clf.fit(x_train, y_train)\n",
        "    end = time()\n",
        "\n",
        "    # PRINT THE RESULT\n",
        "    print(\"time of the training:\",end-start)\n"
      ],
      "execution_count": null,
      "outputs": []
    },
    {
      "cell_type": "code",
      "metadata": {
        "id": "vXj89iUatFU0"
      },
      "source": [
        "def predict_labels(clf, x_test, y_test):\n",
        "    # MAKING PREDICTIONS AND CALCULATING THE MEASURE SCORE OF THE MODEL\n",
        "\n",
        "   #CALCULATING THE TIME OF THE MODEL TO FIT THROUGH TIME FUNCTION\n",
        "    start = time()\n",
        "    y_pred = clf.predict(x_test)\n",
        "    end = time()\n",
        "    \n",
        "\n",
        "    # PRINT THE RESULT\n",
        "    print('f1 score:\\n' , f1_score(y_test,y_pred))\n",
        "    print(\"__\"*40)\n",
        "    print('accuracy_score:\\n',  accuracy_score(y_test,y_pred))\n",
        "    print(\"__\"*40)\n",
        "    print('classification_report:\\n', classification_report(y_test,y_pred))\n",
        "    print(\"__\"*40)\n",
        "    print('confusion matrix :\\n',confusion_matrix(y_test,y_pred))"
      ],
      "execution_count": null,
      "outputs": []
    },
    {
      "cell_type": "code",
      "metadata": {
        "id": "rb-TRI0otFU0",
        "outputId": "6757203d-a549-447a-92be-d855f1969501"
      },
      "source": [
        "# LOGISTIC REGRESSION MODEL\n",
        "train_classifier(lg,x_train,y_train)\n",
        "predict_labels(lg,x_test,y_test)"
      ],
      "execution_count": null,
      "outputs": [
        {
          "output_type": "stream",
          "text": [
            "time of the training: 0.006640911102294922\n",
            "f1 score:\n",
            " 0.8392857142857143\n",
            "________________________________________________________________________________\n",
            "accuracy_score:\n",
            " 0.7721518987341772\n",
            "________________________________________________________________________________\n",
            "classification_report:\n",
            "               precision    recall  f1-score   support\n",
            "\n",
            "           0       0.70      0.54      0.61        26\n",
            "           1       0.80      0.89      0.84        53\n",
            "\n",
            "   micro avg       0.77      0.77      0.77        79\n",
            "   macro avg       0.75      0.71      0.72        79\n",
            "weighted avg       0.76      0.77      0.76        79\n",
            "\n",
            "________________________________________________________________________________\n",
            "confusion matrix :\n",
            " [[14 12]\n",
            " [ 6 47]]\n"
          ],
          "name": "stdout"
        }
      ]
    },
    {
      "cell_type": "code",
      "metadata": {
        "id": "-gFw24rntFU0",
        "outputId": "73c72f0f-6f47-42e8-90b9-89088c55ea15"
      },
      "source": [
        "# DECISION TREE \n",
        "train_classifier(dtc,x_train,y_train)\n",
        "predict_labels(dtc,x_test,y_test)"
      ],
      "execution_count": null,
      "outputs": [
        {
          "output_type": "stream",
          "text": [
            "time of the training: 0.006969451904296875\n",
            "f1 score:\n",
            " 0.7522935779816513\n",
            "________________________________________________________________________________\n",
            "accuracy_score:\n",
            " 0.6582278481012658\n",
            "________________________________________________________________________________\n",
            "classification_report:\n",
            "               precision    recall  f1-score   support\n",
            "\n",
            "           0       0.48      0.42      0.45        26\n",
            "           1       0.73      0.77      0.75        53\n",
            "\n",
            "   micro avg       0.66      0.66      0.66        79\n",
            "   macro avg       0.61      0.60      0.60        79\n",
            "weighted avg       0.65      0.66      0.65        79\n",
            "\n",
            "________________________________________________________________________________\n",
            "confusion matrix :\n",
            " [[11 15]\n",
            " [12 41]]\n"
          ],
          "name": "stdout"
        }
      ]
    },
    {
      "cell_type": "code",
      "metadata": {
        "id": "cc51a3nctFU0",
        "outputId": "a3349673-3691-4bbc-9df5-e96d2baf80c8"
      },
      "source": [
        "# RANDOM FOREST\n",
        "train_classifier(rf,x_train,y_train)\n",
        "predict_labels(rf,x_test,y_test)"
      ],
      "execution_count": null,
      "outputs": [
        {
          "output_type": "stream",
          "text": [
            "time of the training: 0.18275737762451172\n",
            "f1 score:\n",
            " 0.8064516129032259\n",
            "________________________________________________________________________________\n",
            "accuracy_score:\n",
            " 0.6962025316455697\n",
            "________________________________________________________________________________\n",
            "classification_report:\n",
            "               precision    recall  f1-score   support\n",
            "\n",
            "           0       0.62      0.19      0.29        26\n",
            "           1       0.70      0.94      0.81        53\n",
            "\n",
            "   micro avg       0.70      0.70      0.70        79\n",
            "   macro avg       0.66      0.57      0.55        79\n",
            "weighted avg       0.68      0.70      0.64        79\n",
            "\n",
            "________________________________________________________________________________\n",
            "confusion matrix :\n",
            " [[ 5 21]\n",
            " [ 3 50]]\n"
          ],
          "name": "stdout"
        }
      ]
    },
    {
      "cell_type": "code",
      "metadata": {
        "scrolled": true,
        "id": "AO8LPqhatFU0",
        "outputId": "b9de80e1-5b5e-4095-d26a-4ae4c6e437bc"
      },
      "source": [
        "# SUPPORT VECTOR CLASSIFIER\n",
        "train_classifier(svc,x_train,y_train)\n",
        "predict_labels(svc,x_test,y_test)"
      ],
      "execution_count": null,
      "outputs": [
        {
          "output_type": "stream",
          "text": [
            "time of the training: 0.0242159366607666\n",
            "f1 score:\n",
            " 0.8264462809917356\n",
            "________________________________________________________________________________\n",
            "accuracy_score:\n",
            " 0.7341772151898734\n",
            "________________________________________________________________________________\n",
            "classification_report:\n",
            "               precision    recall  f1-score   support\n",
            "\n",
            "           0       0.73      0.31      0.43        26\n",
            "           1       0.74      0.94      0.83        53\n",
            "\n",
            "   micro avg       0.73      0.73      0.73        79\n",
            "   macro avg       0.73      0.63      0.63        79\n",
            "weighted avg       0.73      0.73      0.70        79\n",
            "\n",
            "________________________________________________________________________________\n",
            "confusion matrix :\n",
            " [[ 8 18]\n",
            " [ 3 50]]\n"
          ],
          "name": "stdout"
        }
      ]
    },
    {
      "cell_type": "markdown",
      "metadata": {
        "id": "rAJVfXcptFU0"
      },
      "source": [
        " APPLYING PRINCIPAL COMPONENT ANALYSIS"
      ]
    },
    {
      "cell_type": "code",
      "metadata": {
        "id": "b-S1XYSktFU0"
      },
      "source": [
        "# IMPORTING THE LIBRARY\n",
        "from sklearn.decomposition import PCA\n",
        "pca = PCA()"
      ],
      "execution_count": null,
      "outputs": []
    },
    {
      "cell_type": "code",
      "metadata": {
        "id": "WZvOcLTOtFU0",
        "outputId": "be3daf6b-6866-428c-ea3b-71b547d4ffa1"
      },
      "source": [
        "x = pca.fit_transform(x)\n",
        "# VISUALIZING \n",
        "plt.figure()\n",
        "plt.plot(np.cumsum(pca.explained_variance_ratio_)*100)\n",
        "plt.xlabel(\"no of components\")\n",
        "plt.ylabel(\"variance(%)\")\n",
        "plt.axhline(y=95,color='r',linestyle='--')"
      ],
      "execution_count": null,
      "outputs": [
        {
          "output_type": "execute_result",
          "data": {
            "text/plain": [
              "<matplotlib.lines.Line2D at 0x1fe15ccea58>"
            ]
          },
          "metadata": {
            "tags": []
          },
          "execution_count": 44
        },
        {
          "output_type": "display_data",
          "data": {
            "image/png": "[encoded data removed]",
            "text/plain": [
              "<Figure size 432x288 with 1 Axes>"
            ]
          },
          "metadata": {
            "tags": []
          }
        }
      ]
    },
    {
      "cell_type": "code",
      "metadata": {
        "id": "AHg60pPVtFU1"
      },
      "source": [
        "# NOW WE CAN SEE THE COMPONENTS CAN BE 30\n",
        "pca = PCA(n_components=30)\n",
        "x=pca.fit_transform(x)\n",
        "x = pd.DataFrame(x)"
      ],
      "execution_count": null,
      "outputs": []
    },
    {
      "cell_type": "code",
      "metadata": {
        "id": "2xtugNXstFU1",
        "outputId": "671d80a8-428c-411c-9560-a965d8fed2b7"
      },
      "source": [
        "x.head()"
      ],
      "execution_count": null,
      "outputs": [
        {
          "output_type": "execute_result",
          "data": {
            "text/html": [
              "<div>\n",
              "<style scoped>\n",
              "    .dataframe tbody tr th:only-of-type {\n",
              "        vertical-align: middle;\n",
              "    }\n",
              "\n",
              "    .dataframe tbody tr th {\n",
              "        vertical-align: top;\n",
              "    }\n",
              "\n",
              "    .dataframe thead th {\n",
              "        text-align: right;\n",
              "    }\n",
              "</style>\n",
              "<table border=\"1\" class=\"dataframe\">\n",
              "  <thead>\n",
              "    <tr style=\"text-align: right;\">\n",
              "      <th></th>\n",
              "      <th>0</th>\n",
              "      <th>1</th>\n",
              "      <th>2</th>\n",
              "      <th>3</th>\n",
              "      <th>4</th>\n",
              "      <th>5</th>\n",
              "      <th>6</th>\n",
              "      <th>7</th>\n",
              "      <th>8</th>\n",
              "      <th>9</th>\n",
              "      <th>...</th>\n",
              "      <th>20</th>\n",
              "      <th>21</th>\n",
              "      <th>22</th>\n",
              "      <th>23</th>\n",
              "      <th>24</th>\n",
              "      <th>25</th>\n",
              "      <th>26</th>\n",
              "      <th>27</th>\n",
              "      <th>28</th>\n",
              "      <th>29</th>\n",
              "    </tr>\n",
              "  </thead>\n",
              "  <tbody>\n",
              "    <tr>\n",
              "      <th>0</th>\n",
              "      <td>-0.696420</td>\n",
              "      <td>-0.543569</td>\n",
              "      <td>-0.830530</td>\n",
              "      <td>2.943415</td>\n",
              "      <td>-0.903290</td>\n",
              "      <td>0.238887</td>\n",
              "      <td>2.663675</td>\n",
              "      <td>0.812153</td>\n",
              "      <td>3.429692</td>\n",
              "      <td>-0.306524</td>\n",
              "      <td>...</td>\n",
              "      <td>-0.517525</td>\n",
              "      <td>-0.114021</td>\n",
              "      <td>0.272635</td>\n",
              "      <td>0.388427</td>\n",
              "      <td>-0.240730</td>\n",
              "      <td>-0.712463</td>\n",
              "      <td>-0.528385</td>\n",
              "      <td>-0.272355</td>\n",
              "      <td>-0.151985</td>\n",
              "      <td>0.210817</td>\n",
              "    </tr>\n",
              "    <tr>\n",
              "      <th>1</th>\n",
              "      <td>1.587596</td>\n",
              "      <td>-2.333203</td>\n",
              "      <td>1.025253</td>\n",
              "      <td>1.215612</td>\n",
              "      <td>1.691928</td>\n",
              "      <td>-0.245996</td>\n",
              "      <td>-0.378067</td>\n",
              "      <td>-0.520318</td>\n",
              "      <td>-0.521157</td>\n",
              "      <td>-2.210893</td>\n",
              "      <td>...</td>\n",
              "      <td>-1.710224</td>\n",
              "      <td>0.954123</td>\n",
              "      <td>-0.940575</td>\n",
              "      <td>0.825386</td>\n",
              "      <td>0.075980</td>\n",
              "      <td>0.128886</td>\n",
              "      <td>-0.088777</td>\n",
              "      <td>0.933475</td>\n",
              "      <td>-0.494616</td>\n",
              "      <td>0.308789</td>\n",
              "    </tr>\n",
              "    <tr>\n",
              "      <th>2</th>\n",
              "      <td>1.854501</td>\n",
              "      <td>-0.992269</td>\n",
              "      <td>-0.440001</td>\n",
              "      <td>0.336069</td>\n",
              "      <td>-0.960559</td>\n",
              "      <td>-1.259283</td>\n",
              "      <td>-1.459209</td>\n",
              "      <td>3.490023</td>\n",
              "      <td>0.634674</td>\n",
              "      <td>-0.604033</td>\n",
              "      <td>...</td>\n",
              "      <td>0.897180</td>\n",
              "      <td>-0.407946</td>\n",
              "      <td>0.306147</td>\n",
              "      <td>-1.396247</td>\n",
              "      <td>-1.061184</td>\n",
              "      <td>-1.689445</td>\n",
              "      <td>-0.556081</td>\n",
              "      <td>-0.532098</td>\n",
              "      <td>-1.068841</td>\n",
              "      <td>1.875582</td>\n",
              "    </tr>\n",
              "    <tr>\n",
              "      <th>3</th>\n",
              "      <td>-2.903551</td>\n",
              "      <td>-0.834788</td>\n",
              "      <td>1.208169</td>\n",
              "      <td>-0.289667</td>\n",
              "      <td>-1.000191</td>\n",
              "      <td>-0.526718</td>\n",
              "      <td>-0.165848</td>\n",
              "      <td>1.593953</td>\n",
              "      <td>-1.732435</td>\n",
              "      <td>-0.949278</td>\n",
              "      <td>...</td>\n",
              "      <td>1.476163</td>\n",
              "      <td>0.135455</td>\n",
              "      <td>1.381948</td>\n",
              "      <td>0.795280</td>\n",
              "      <td>-0.235643</td>\n",
              "      <td>-0.475907</td>\n",
              "      <td>-0.706855</td>\n",
              "      <td>-0.049396</td>\n",
              "      <td>-0.225904</td>\n",
              "      <td>-0.459977</td>\n",
              "    </tr>\n",
              "    <tr>\n",
              "      <th>4</th>\n",
              "      <td>-0.545183</td>\n",
              "      <td>-1.688027</td>\n",
              "      <td>0.805115</td>\n",
              "      <td>-1.191339</td>\n",
              "      <td>2.276270</td>\n",
              "      <td>0.940360</td>\n",
              "      <td>1.259853</td>\n",
              "      <td>1.096291</td>\n",
              "      <td>-0.458430</td>\n",
              "      <td>-1.033753</td>\n",
              "      <td>...</td>\n",
              "      <td>-1.295317</td>\n",
              "      <td>0.026585</td>\n",
              "      <td>1.201065</td>\n",
              "      <td>-0.791168</td>\n",
              "      <td>-0.577794</td>\n",
              "      <td>1.403173</td>\n",
              "      <td>-0.173034</td>\n",
              "      <td>0.612124</td>\n",
              "      <td>-0.167623</td>\n",
              "      <td>0.414276</td>\n",
              "    </tr>\n",
              "  </tbody>\n",
              "</table>\n",
              "<p>5 rows × 30 columns</p>\n",
              "</div>"
            ],
            "text/plain": [
              "         0         1         2         3         4         5         6   \\\n",
              "0 -0.696420 -0.543569 -0.830530  2.943415 -0.903290  0.238887  2.663675   \n",
              "1  1.587596 -2.333203  1.025253  1.215612  1.691928 -0.245996 -0.378067   \n",
              "2  1.854501 -0.992269 -0.440001  0.336069 -0.960559 -1.259283 -1.459209   \n",
              "3 -2.903551 -0.834788  1.208169 -0.289667 -1.000191 -0.526718 -0.165848   \n",
              "4 -0.545183 -1.688027  0.805115 -1.191339  2.276270  0.940360  1.259853   \n",
              "\n",
              "         7         8         9   ...        20        21        22        23  \\\n",
              "0  0.812153  3.429692 -0.306524  ... -0.517525 -0.114021  0.272635  0.388427   \n",
              "1 -0.520318 -0.521157 -2.210893  ... -1.710224  0.954123 -0.940575  0.825386   \n",
              "2  3.490023  0.634674 -0.604033  ...  0.897180 -0.407946  0.306147 -1.396247   \n",
              "3  1.593953 -1.732435 -0.949278  ...  1.476163  0.135455  1.381948  0.795280   \n",
              "4  1.096291 -0.458430 -1.033753  ... -1.295317  0.026585  1.201065 -0.791168   \n",
              "\n",
              "         24        25        26        27        28        29  \n",
              "0 -0.240730 -0.712463 -0.528385 -0.272355 -0.151985  0.210817  \n",
              "1  0.075980  0.128886 -0.088777  0.933475 -0.494616  0.308789  \n",
              "2 -1.061184 -1.689445 -0.556081 -0.532098 -1.068841  1.875582  \n",
              "3 -0.235643 -0.475907 -0.706855 -0.049396 -0.225904 -0.459977  \n",
              "4 -0.577794  1.403173 -0.173034  0.612124 -0.167623  0.414276  \n",
              "\n",
              "[5 rows x 30 columns]"
            ]
          },
          "metadata": {
            "tags": []
          },
          "execution_count": 46
        }
      ]
    },
    {
      "cell_type": "code",
      "metadata": {
        "id": "1NE56OE2tFU1"
      },
      "source": [
        "# SO THE ROWS OF THE DATASET IS REDUCED TO 30 NOW\n",
        "# NOW AGAIN APPLYING THE MODELS"
      ],
      "execution_count": null,
      "outputs": []
    },
    {
      "cell_type": "code",
      "metadata": {
        "id": "bOZmwRnOtFU1"
      },
      "source": [
        "# IMPORTING TRAIN _TEST SPLIT AS THE DATA IS LESS AND FEATURES ARE MORE\n",
        "# IMPORTING THE LIBRARY\n",
        "from sklearn.model_selection import train_test_split\n",
        "x_train,x_test,y_train,y_test = train_test_split(x,y,test_size=0.20,random_state=47,stratify=y)"
      ],
      "execution_count": null,
      "outputs": []
    },
    {
      "cell_type": "code",
      "metadata": {
        "id": "LDkS5lyctFU1"
      },
      "source": [
        "def train_classifier(clf, x_train, y_train):\n",
        "    # FITTING THE CLASSIFIER ON THE TRAINING DATA\n",
        "\n",
        "    # CALCULATING THE TIME OF THE MODEL TO FIT THROUGH TIME FUNCTION\n",
        "    start = time()\n",
        "    clf.fit(x_train, y_train)\n",
        "    end = time()\n",
        "\n",
        "    # PRINT THE RESULT\n",
        "    print(\"time of the training:\",end-start)\n",
        "    \n",
        "    \n",
        "    \n",
        "    \n",
        "def predict_labels(clf, x_test, y_test):\n",
        "    # MAKING PREDICTIONS AND CALCULATING THE MEASURE SCORE OF THE MODEL\n",
        "\n",
        "   #CALCULATING THE TIME OF THE MODEL TO FIT THROUGH TIME FUNCTION\n",
        "    start = time()\n",
        "    y_pred = clf.predict(x_test)\n",
        "    end = time()\n",
        "    \n",
        "\n",
        "    # PRINT THE RESULT\n",
        "    print('f1 score:\\n' , f1_score(y_test,y_pred))\n",
        "    print(\"__\"*40)\n",
        "    print('accuracy_score:\\n',  accuracy_score(y_test,y_pred))\n",
        "    print(\"__\"*40)\n",
        "    print('classification_report:\\n', classification_report(y_test,y_pred))\n",
        "    print(\"__\"*40)\n",
        "    print('confusion matrix :\\n',confusion_matrix(y_test,y_pred))"
      ],
      "execution_count": null,
      "outputs": []
    },
    {
      "cell_type": "code",
      "metadata": {
        "id": "hImwSj9dtFU1",
        "outputId": "bf29de5d-942e-4276-fe36-0b59d358607f"
      },
      "source": [
        "# LOGISTIC REGRESSION MODEL\n",
        "train_classifier(lg,x_train,y_train)\n",
        "predict_labels(lg,x_test,y_test)"
      ],
      "execution_count": null,
      "outputs": [
        {
          "output_type": "stream",
          "text": [
            "time of the training: 0.013373613357543945\n",
            "f1 score:\n",
            " 0.8141592920353983\n",
            "________________________________________________________________________________\n",
            "accuracy_score:\n",
            " 0.7341772151898734\n",
            "________________________________________________________________________________\n",
            "classification_report:\n",
            "               precision    recall  f1-score   support\n",
            "\n",
            "           0       0.63      0.46      0.53        26\n",
            "           1       0.77      0.87      0.81        53\n",
            "\n",
            "   micro avg       0.73      0.73      0.73        79\n",
            "   macro avg       0.70      0.66      0.67        79\n",
            "weighted avg       0.72      0.73      0.72        79\n",
            "\n",
            "________________________________________________________________________________\n",
            "confusion matrix :\n",
            " [[12 14]\n",
            " [ 7 46]]\n"
          ],
          "name": "stdout"
        }
      ]
    },
    {
      "cell_type": "code",
      "metadata": {
        "id": "viWzHVXctFU1",
        "outputId": "536d0967-aab3-4c96-b5e1-cbd67752e75e"
      },
      "source": [
        "# DECISION TREE \n",
        "train_classifier(dtc,x_train,y_train)\n",
        "predict_labels(dtc,x_test,y_test)"
      ],
      "execution_count": null,
      "outputs": [
        {
          "output_type": "stream",
          "text": [
            "time of the training: 0.01282048225402832\n",
            "f1 score:\n",
            " 0.7967479674796748\n",
            "________________________________________________________________________________\n",
            "accuracy_score:\n",
            " 0.6835443037974683\n",
            "________________________________________________________________________________\n",
            "classification_report:\n",
            "               precision    recall  f1-score   support\n",
            "\n",
            "           0       0.56      0.19      0.29        26\n",
            "           1       0.70      0.92      0.80        53\n",
            "\n",
            "   micro avg       0.68      0.68      0.68        79\n",
            "   macro avg       0.63      0.56      0.54        79\n",
            "weighted avg       0.65      0.68      0.63        79\n",
            "\n",
            "________________________________________________________________________________\n",
            "confusion matrix :\n",
            " [[ 5 21]\n",
            " [ 4 49]]\n"
          ],
          "name": "stdout"
        }
      ]
    },
    {
      "cell_type": "code",
      "metadata": {
        "id": "pHsDIi1ntFU1",
        "outputId": "df2526d4-6261-4f7e-a1ee-91de4034d662"
      },
      "source": [
        "# RANDOM FOREST\n",
        "train_classifier(rf,x_train,y_train)\n",
        "predict_labels(rf,x_test,y_test)"
      ],
      "execution_count": null,
      "outputs": [
        {
          "output_type": "stream",
          "text": [
            "time of the training: 0.13367509841918945\n",
            "f1 score:\n",
            " 0.8292682926829268\n",
            "________________________________________________________________________________\n",
            "accuracy_score:\n",
            " 0.7341772151898734\n",
            "________________________________________________________________________________\n",
            "classification_report:\n",
            "               precision    recall  f1-score   support\n",
            "\n",
            "           0       0.78      0.27      0.40        26\n",
            "           1       0.73      0.96      0.83        53\n",
            "\n",
            "   micro avg       0.73      0.73      0.73        79\n",
            "   macro avg       0.75      0.62      0.61        79\n",
            "weighted avg       0.74      0.73      0.69        79\n",
            "\n",
            "________________________________________________________________________________\n",
            "confusion matrix :\n",
            " [[ 7 19]\n",
            " [ 2 51]]\n"
          ],
          "name": "stdout"
        }
      ]
    },
    {
      "cell_type": "code",
      "metadata": {
        "scrolled": true,
        "id": "93bY1MjXtFU1",
        "outputId": "31ac0b94-fab2-46b8-a256-1043c3e0e679"
      },
      "source": [
        "# SUPPORT VECTOR CLASSIFIER\n",
        "train_classifier(svc,x_train,y_train)\n",
        "predict_labels(svc,x_test,y_test)"
      ],
      "execution_count": null,
      "outputs": [
        {
          "output_type": "stream",
          "text": [
            "time of the training: 0.01771998405456543\n",
            "f1 score:\n",
            " 0.8264462809917356\n",
            "________________________________________________________________________________\n",
            "accuracy_score:\n",
            " 0.7341772151898734\n",
            "________________________________________________________________________________\n",
            "classification_report:\n",
            "               precision    recall  f1-score   support\n",
            "\n",
            "           0       0.73      0.31      0.43        26\n",
            "           1       0.74      0.94      0.83        53\n",
            "\n",
            "   micro avg       0.73      0.73      0.73        79\n",
            "   macro avg       0.73      0.63      0.63        79\n",
            "weighted avg       0.73      0.73      0.70        79\n",
            "\n",
            "________________________________________________________________________________\n",
            "confusion matrix :\n",
            " [[ 8 18]\n",
            " [ 3 50]]\n"
          ],
          "name": "stdout"
        }
      ]
    },
    {
      "cell_type": "code",
      "metadata": {
        "id": "zV1Tj-m4tFU1",
        "outputId": "c3e2f594-ea12-4db2-fc89-d7c5678f97a4"
      },
      "source": [
        "# Applying HYPERPARAMETER TUNING ON SVM model\n",
        "\n",
        "from sklearn.model_selection import GridSearchCV\n",
        "from sklearn.metrics import make_scorer, f1_score\n",
        "\n",
        "# TODO: Create the parameters list you wish to tune\n",
        "parameters = [\n",
        "  {'C': [1,10,100,1000], 'kernel': ['linear']},\n",
        "  {'C': [1, 10, 100, 1000], 'gamma': [0.001, 0.0001], 'kernel': ['rbf']},\n",
        "  {'C': [1, 10, 100, 1000], 'degree' : [1,3,5,10], 'gamma': [0.001, 0.0001], 'kernel': ['poly']}\n",
        "]\n",
        "# TODO: Initialize the classifier\n",
        "clf = SVC()\n",
        "# TODO: Make an f1 scoring function using 'make_scorer' \n",
        "f1_scorer = make_scorer(f1_score)\n",
        "# TODO: Perform grid search on the classifier using the f1_scorer as the scoring method\n",
        "grid_obj = GridSearchCV(clf, parameters, scoring=f1_scorer)\n",
        "# TODO: Fit the grid search object to the training data and find the optimal parameters\n",
        "grid_obj = grid_obj.fit(x_train, y_train)\n",
        "# Get the estimator\n",
        "clf = grid_obj.best_estimator_\n",
        "\n",
        "\n",
        "print(grid_obj.best_params_)\n",
        "# Report the final F1 score for training and testing after parameter tuning\n",
        "print(\"Tuned model has a training F1 score of {}.\".format(predict_labels(clf, x_train, y_train)))"
      ],
      "execution_count": null,
      "outputs": [
        {
          "output_type": "stream",
          "text": [
            "{'C': 1, 'gamma': 0.001, 'kernel': 'rbf'}\n",
            "f1 score:\n",
            " 0.8030303030303031\n",
            "________________________________________________________________________________\n",
            "accuracy_score:\n",
            " 0.6708860759493671\n",
            "________________________________________________________________________________\n",
            "classification_report:\n",
            "               precision    recall  f1-score   support\n",
            "\n",
            "           0       0.00      0.00      0.00       104\n",
            "           1       0.67      1.00      0.80       212\n",
            "\n",
            "   micro avg       0.67      0.67      0.67       316\n",
            "   macro avg       0.34      0.50      0.40       316\n",
            "weighted avg       0.45      0.67      0.54       316\n",
            "\n",
            "________________________________________________________________________________\n",
            "confusion matrix :\n",
            " [[  0 104]\n",
            " [  0 212]]\n",
            "Tuned model has a training F1 score of None.\n"
          ],
          "name": "stdout"
        },
        {
          "output_type": "stream",
          "text": [
            "C:\\ProgramData\\Anaconda3\\lib\\site-packages\\sklearn\\model_selection\\_search.py:841: DeprecationWarning: The default of the `iid` parameter will change from True to False in version 0.22 and will be removed in 0.24. This will change numeric results when test-set sizes are unequal.\n",
            "  DeprecationWarning)\n"
          ],
          "name": "stderr"
        }
      ]
    },
    {
      "cell_type": "markdown",
      "metadata": {
        "id": "4YRzWkQNtFU2"
      },
      "source": [
        " Confusion matrix shows that model has predicted wrongly so not considering the accuracy score of the model and considering the \n",
        " F1 SCORE which is 80.30% which is better . "
      ]
    },
    {
      "cell_type": "code",
      "metadata": {
        "id": "sSmOb9OmtFU2"
      },
      "source": [
        "# Saving the BEST MODEL through pickle\n",
        "# Importing the Library\n",
        "import pickle\n",
        "filehandler = open(\"Project_27.obj\",\"wb\")\n",
        "# saving the model in pickel string\n",
        "saved_rf_model = pickle.dump(clf,filehandler)\n",
        "filehandler.close()"
      ],
      "execution_count": null,
      "outputs": []
    },
    {
      "cell_type": "code",
      "metadata": {
        "id": "HwiXa30ntFU2"
      },
      "source": [
        ""
      ],
      "execution_count": null,
      "outputs": []
    },
    {
      "cell_type": "code",
      "metadata": {
        "id": "4XIFYpXJtFU2"
      },
      "source": [
        ""
      ],
      "execution_count": null,
      "outputs": []
    },
    {
      "cell_type": "code",
      "metadata": {
        "id": "OjmCr7tQtFU2"
      },
      "source": [
        ""
      ],
      "execution_count": null,
      "outputs": []
    }
  ]
}