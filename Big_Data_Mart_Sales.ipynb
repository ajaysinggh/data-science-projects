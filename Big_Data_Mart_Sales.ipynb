{
  "nbformat": 4,
  "nbformat_minor": 0,
  "metadata": {
    "kernelspec": {
      "display_name": "Python 3",
      "language": "python",
      "name": "python3"
    },
    "language_info": {
      "codemirror_mode": {
        "name": "ipython",
        "version": 3
      },
      "file_extension": ".py",
      "mimetype": "text/x-python",
      "name": "python",
      "nbconvert_exporter": "python",
      "pygments_lexer": "ipython3",
      "version": "3.7.3"
    },
    "colab": {
      "name": "Big Data Mart Sales.ipynb",
      "provenance": [],
      "include_colab_link": true
    }
  },
  "cells": [
    {
      "cell_type": "markdown",
      "metadata": {
        "id": "view-in-github",
        "colab_type": "text"
      },
      "source": [
        "<a href=\"https://colab.research.google.com/github/ajaysinggh/data-science-projects/blob/master/Big_Data_Mart_Sales.ipynb\" target=\"_parent\"><img src=\"https://colab.research.google.com/assets/colab-badge.svg\" alt=\"Open In Colab\"/></a>"
      ]
    },
    {
      "cell_type": "markdown",
      "metadata": {
        "id": "P71OCL_szo1i"
      },
      "source": [
        "# Big Data Mart Sales Analysis"
      ]
    },
    {
      "cell_type": "markdown",
      "metadata": {
        "id": "cvd1ZYKqzo1i"
      },
      "source": [
        "# IT IS REGRESSION PROBLEM AS HAS TO PREDICT THE SALES OF THE MARTS"
      ]
    },
    {
      "cell_type": "code",
      "metadata": {
        "id": "S4wTH0Yizo1j"
      },
      "source": [
        "# IMPORTING THE LIBRARIES\n",
        "import pandas as pd\n",
        "import numpy as np\n",
        "import matplotlib.pyplot as plt\n",
        "%matplotlib inline\n",
        "import seaborn as sns\n",
        "import warnings\n",
        "warnings.filterwarnings(\"ignore\")\n",
        "from time import time"
      ],
      "execution_count": null,
      "outputs": []
    },
    {
      "cell_type": "code",
      "metadata": {
        "id": "Z6_OB84Jzo1j",
        "outputId": "b2bb2196-59da-4792-c9d6-45be9d39d4bf"
      },
      "source": [
        "# IMPORTING THE DATASET \n",
        "train = pd.read_csv(\"C:\\\\Users\\\\AJAY SINGH\\\\BM_TRAIN.csv\")                      # TRAIN SET\n",
        "test = pd.read_csv(\"C:\\\\Users\\\\AJAY SINGH\\\\BM_TEST.csv\")                        # TEST SET\n",
        "print(\"shape of the training set:\\n\",train.shape)\n",
        "print(\"__\"*40)\n",
        "print(\"shape of the test set :\\n\",test.shape)"
      ],
      "execution_count": null,
      "outputs": [
        {
          "output_type": "stream",
          "text": [
            "shape of the training set:\n",
            " (8523, 12)\n",
            "________________________________________________________________________________\n",
            "shape of the test set :\n",
            " (5681, 11)\n"
          ],
          "name": "stdout"
        }
      ]
    },
    {
      "cell_type": "code",
      "metadata": {
        "id": "Zz1lxzm6zo1m",
        "outputId": "8dcacf5b-8592-4650-f4e7-91e47575d4ab"
      },
      "source": [
        "print(\"5 rows of the training set:\\n\",train.head())\n",
        "print(\"__\"*40)\n",
        "print(\"5 rows of the test set:\\n\",test.head())"
      ],
      "execution_count": null,
      "outputs": [
        {
          "output_type": "stream",
          "text": [
            "5 rows of the training set:\n",
            "   Item_Identifier  Item_Weight Item_Fat_Content  Item_Visibility  \\\n",
            "0           FDA15         9.30          Low Fat         0.016047   \n",
            "1           DRC01         5.92          Regular         0.019278   \n",
            "2           FDN15        17.50          Low Fat         0.016760   \n",
            "3           FDX07        19.20          Regular         0.000000   \n",
            "4           NCD19         8.93          Low Fat         0.000000   \n",
            "\n",
            "               Item_Type  Item_MRP Outlet_Identifier  \\\n",
            "0                  Dairy  249.8092            OUT049   \n",
            "1            Soft Drinks   48.2692            OUT018   \n",
            "2                   Meat  141.6180            OUT049   \n",
            "3  Fruits and Vegetables  182.0950            OUT010   \n",
            "4              Household   53.8614            OUT013   \n",
            "\n",
            "   Outlet_Establishment_Year Outlet_Size Outlet_Location_Type  \\\n",
            "0                       1999      Medium               Tier 1   \n",
            "1                       2009      Medium               Tier 3   \n",
            "2                       1999      Medium               Tier 1   \n",
            "3                       1998         NaN               Tier 3   \n",
            "4                       1987        High               Tier 3   \n",
            "\n",
            "         Outlet_Type  Item_Outlet_Sales  \n",
            "0  Supermarket Type1          3735.1380  \n",
            "1  Supermarket Type2           443.4228  \n",
            "2  Supermarket Type1          2097.2700  \n",
            "3      Grocery Store           732.3800  \n",
            "4  Supermarket Type1           994.7052  \n",
            "________________________________________________________________________________\n",
            "5 rows of the test set:\n",
            "   Item_Identifier  Item_Weight Item_Fat_Content  Item_Visibility    Item_Type  \\\n",
            "0           FDW58       20.750          Low Fat         0.007565  Snack Foods   \n",
            "1           FDW14        8.300              reg         0.038428        Dairy   \n",
            "2           NCN55       14.600          Low Fat         0.099575       Others   \n",
            "3           FDQ58        7.315          Low Fat         0.015388  Snack Foods   \n",
            "4           FDY38          NaN          Regular         0.118599        Dairy   \n",
            "\n",
            "   Item_MRP Outlet_Identifier  Outlet_Establishment_Year Outlet_Size  \\\n",
            "0  107.8622            OUT049                       1999      Medium   \n",
            "1   87.3198            OUT017                       2007         NaN   \n",
            "2  241.7538            OUT010                       1998         NaN   \n",
            "3  155.0340            OUT017                       2007         NaN   \n",
            "4  234.2300            OUT027                       1985      Medium   \n",
            "\n",
            "  Outlet_Location_Type        Outlet_Type  \n",
            "0               Tier 1  Supermarket Type1  \n",
            "1               Tier 2  Supermarket Type1  \n",
            "2               Tier 3      Grocery Store  \n",
            "3               Tier 2  Supermarket Type1  \n",
            "4               Tier 3  Supermarket Type3  \n"
          ],
          "name": "stdout"
        }
      ]
    },
    {
      "cell_type": "code",
      "metadata": {
        "id": "bIXpiuHSzo1m",
        "outputId": "bdd70eef-ca09-4f6a-9bd8-d424ee289437"
      },
      "source": [
        "# INFORMATION FOR BOTH TRAINING AND TESTING SET\n",
        "print(\"Info of the training set :\\n\",train.info())\n",
        "print(\"__\"*40)\n",
        "print(\"Info of the testing set :\\n\",test.info())"
      ],
      "execution_count": null,
      "outputs": [
        {
          "output_type": "stream",
          "text": [
            "<class 'pandas.core.frame.DataFrame'>\n",
            "RangeIndex: 8523 entries, 0 to 8522\n",
            "Data columns (total 12 columns):\n",
            "Item_Identifier              8523 non-null object\n",
            "Item_Weight                  7060 non-null float64\n",
            "Item_Fat_Content             8523 non-null object\n",
            "Item_Visibility              8523 non-null float64\n",
            "Item_Type                    8523 non-null object\n",
            "Item_MRP                     8523 non-null float64\n",
            "Outlet_Identifier            8523 non-null object\n",
            "Outlet_Establishment_Year    8523 non-null int64\n",
            "Outlet_Size                  6113 non-null object\n",
            "Outlet_Location_Type         8523 non-null object\n",
            "Outlet_Type                  8523 non-null object\n",
            "Item_Outlet_Sales            8523 non-null float64\n",
            "dtypes: float64(4), int64(1), object(7)\n",
            "memory usage: 799.1+ KB\n",
            "Info of the training set :\n",
            " None\n",
            "________________________________________________________________________________\n",
            "<class 'pandas.core.frame.DataFrame'>\n",
            "RangeIndex: 5681 entries, 0 to 5680\n",
            "Data columns (total 11 columns):\n",
            "Item_Identifier              5681 non-null object\n",
            "Item_Weight                  4705 non-null float64\n",
            "Item_Fat_Content             5681 non-null object\n",
            "Item_Visibility              5681 non-null float64\n",
            "Item_Type                    5681 non-null object\n",
            "Item_MRP                     5681 non-null float64\n",
            "Outlet_Identifier            5681 non-null object\n",
            "Outlet_Establishment_Year    5681 non-null int64\n",
            "Outlet_Size                  4075 non-null object\n",
            "Outlet_Location_Type         5681 non-null object\n",
            "Outlet_Type                  5681 non-null object\n",
            "dtypes: float64(3), int64(1), object(7)\n",
            "memory usage: 488.3+ KB\n",
            "Info of the testing set :\n",
            " None\n"
          ],
          "name": "stdout"
        }
      ]
    },
    {
      "cell_type": "code",
      "metadata": {
        "id": "DEZ2jCA0zo1n",
        "outputId": "7b931a01-79a5-4b29-d35f-ba2a1e45c687"
      },
      "source": [
        "# CONCATENATING THE BOTH THE DATA SETS\n",
        "sales_df = pd.concat([train,test] ,ignore_index=True)\n",
        "# TOP 5 ROWS OF THE SALES DATA\n",
        "print(sales_df.head())\n",
        "print(\"__\"*40)\n",
        "print(train.shape,test.shape,sales_df.shape)\n",
        "print(\"__\"*40)\n",
        "print(\"5 rows of the sales_df set:\\n\",sales_df.head())"
      ],
      "execution_count": null,
      "outputs": [
        {
          "output_type": "stream",
          "text": [
            "  Item_Fat_Content Item_Identifier  Item_MRP  Item_Outlet_Sales  \\\n",
            "0          Low Fat           FDA15  249.8092          3735.1380   \n",
            "1          Regular           DRC01   48.2692           443.4228   \n",
            "2          Low Fat           FDN15  141.6180          2097.2700   \n",
            "3          Regular           FDX07  182.0950           732.3800   \n",
            "4          Low Fat           NCD19   53.8614           994.7052   \n",
            "\n",
            "               Item_Type  Item_Visibility  Item_Weight  \\\n",
            "0                  Dairy         0.016047         9.30   \n",
            "1            Soft Drinks         0.019278         5.92   \n",
            "2                   Meat         0.016760        17.50   \n",
            "3  Fruits and Vegetables         0.000000        19.20   \n",
            "4              Household         0.000000         8.93   \n",
            "\n",
            "   Outlet_Establishment_Year Outlet_Identifier Outlet_Location_Type  \\\n",
            "0                       1999            OUT049               Tier 1   \n",
            "1                       2009            OUT018               Tier 3   \n",
            "2                       1999            OUT049               Tier 1   \n",
            "3                       1998            OUT010               Tier 3   \n",
            "4                       1987            OUT013               Tier 3   \n",
            "\n",
            "  Outlet_Size        Outlet_Type  \n",
            "0      Medium  Supermarket Type1  \n",
            "1      Medium  Supermarket Type2  \n",
            "2      Medium  Supermarket Type1  \n",
            "3         NaN      Grocery Store  \n",
            "4        High  Supermarket Type1  \n",
            "________________________________________________________________________________\n",
            "(8523, 12) (5681, 11) (14204, 12)\n",
            "________________________________________________________________________________\n",
            "5 rows of the sales_df set:\n",
            "   Item_Fat_Content Item_Identifier  Item_MRP  Item_Outlet_Sales  \\\n",
            "0          Low Fat           FDA15  249.8092          3735.1380   \n",
            "1          Regular           DRC01   48.2692           443.4228   \n",
            "2          Low Fat           FDN15  141.6180          2097.2700   \n",
            "3          Regular           FDX07  182.0950           732.3800   \n",
            "4          Low Fat           NCD19   53.8614           994.7052   \n",
            "\n",
            "               Item_Type  Item_Visibility  Item_Weight  \\\n",
            "0                  Dairy         0.016047         9.30   \n",
            "1            Soft Drinks         0.019278         5.92   \n",
            "2                   Meat         0.016760        17.50   \n",
            "3  Fruits and Vegetables         0.000000        19.20   \n",
            "4              Household         0.000000         8.93   \n",
            "\n",
            "   Outlet_Establishment_Year Outlet_Identifier Outlet_Location_Type  \\\n",
            "0                       1999            OUT049               Tier 1   \n",
            "1                       2009            OUT018               Tier 3   \n",
            "2                       1999            OUT049               Tier 1   \n",
            "3                       1998            OUT010               Tier 3   \n",
            "4                       1987            OUT013               Tier 3   \n",
            "\n",
            "  Outlet_Size        Outlet_Type  \n",
            "0      Medium  Supermarket Type1  \n",
            "1      Medium  Supermarket Type2  \n",
            "2      Medium  Supermarket Type1  \n",
            "3         NaN      Grocery Store  \n",
            "4        High  Supermarket Type1  \n"
          ],
          "name": "stdout"
        }
      ]
    },
    {
      "cell_type": "code",
      "metadata": {
        "scrolled": true,
        "id": "JI4rleXNzo1n",
        "outputId": "0125bb46-06b0-41c3-802a-794190839cbc"
      },
      "source": [
        "# CHECKING FOR THE NULL VALUES THROUGH HEATMAP\n",
        "print(sales_df.isnull().sum())\n",
        "sns.set(style='darkgrid')\n",
        "sns.heatmap(sales_df.isnull())\n",
        "plt.show()"
      ],
      "execution_count": null,
      "outputs": [
        {
          "output_type": "stream",
          "text": [
            "Item_Fat_Content                0\n",
            "Item_Identifier                 0\n",
            "Item_MRP                        0\n",
            "Item_Outlet_Sales            5681\n",
            "Item_Type                       0\n",
            "Item_Visibility                 0\n",
            "Item_Weight                  2439\n",
            "Outlet_Establishment_Year       0\n",
            "Outlet_Identifier               0\n",
            "Outlet_Location_Type            0\n",
            "Outlet_Size                  4016\n",
            "Outlet_Type                     0\n",
            "dtype: int64\n"
          ],
          "name": "stdout"
        },
        {
          "output_type": "display_data",
          "data": {
            "image/png": "[encoded data removed]",
            "text/plain": [
              "<Figure size 432x288 with 2 Axes>"
            ]
          },
          "metadata": {
            "tags": []
          }
        }
      ]
    },
    {
      "cell_type": "code",
      "metadata": {
        "id": "vvCb_bKFzo1n"
      },
      "source": [
        "# TARGET CONTAINS NAN VALUES BUT IT'S IN THE TEST SET. TWO FEATURES CONTAINS NAN VALUES IN THE DATASET"
      ],
      "execution_count": null,
      "outputs": []
    },
    {
      "cell_type": "code",
      "metadata": {
        "id": "zwaiHO0qzo1n",
        "outputId": "592ebdd2-8b03-41ce-e03e-c158568470ed"
      },
      "source": [
        "# CHECKING THE DISTPLOT OF THE TARGET VARIABLE AND CHECKING THE SKEWNESS OF THE DATA\n",
        "sns.distplot(train['Item_Outlet_Sales'])\n",
        "print(\"Skewness of the Item_Outlet_Sales :\\n\",train['Item_Outlet_Sales'].skew())"
      ],
      "execution_count": null,
      "outputs": [
        {
          "output_type": "stream",
          "text": [
            "Skewness of the Item_Outlet_Sales :\n",
            " 1.1775306028542798\n"
          ],
          "name": "stdout"
        },
        {
          "output_type": "display_data",
          "data": {
            "image/png": "[encoded data removed]",
            "text/plain": [
              "<Figure size 432x288 with 1 Axes>"
            ]
          },
          "metadata": {
            "tags": []
          }
        }
      ]
    },
    {
      "cell_type": "code",
      "metadata": {
        "id": "kMjoiRu3zo1o",
        "outputId": "1ac1349e-4f3f-4c8f-c800-fc56b2d597df"
      },
      "source": [
        "train['Item_Outlet_Sales'].describe()"
      ],
      "execution_count": null,
      "outputs": [
        {
          "output_type": "execute_result",
          "data": {
            "text/plain": [
              "count     8523.000000\n",
              "mean      2181.288914\n",
              "std       1706.499616\n",
              "min         33.290000\n",
              "25%        834.247400\n",
              "50%       1794.331000\n",
              "75%       3101.296400\n",
              "max      13086.964800\n",
              "Name: Item_Outlet_Sales, dtype: float64"
            ]
          },
          "metadata": {
            "tags": []
          },
          "execution_count": 9
        }
      ]
    },
    {
      "cell_type": "code",
      "metadata": {
        "id": "B1LMyQKxzo1o",
        "outputId": "df69ac69-d7e6-4df4-ed97-9cb052db8f52"
      },
      "source": [
        "# Target variable is right skewed so using the log to transform the right skewed data\n",
        "train['Item_Outlet_Sales'] = np.log(train['Item_Outlet_Sales'])\n",
        "sns.distplot(train['Item_Outlet_Sales'],kde=False)"
      ],
      "execution_count": null,
      "outputs": [
        {
          "output_type": "execute_result",
          "data": {
            "text/plain": [
              "<matplotlib.axes._subplots.AxesSubplot at 0x1d62a9966d8>"
            ]
          },
          "metadata": {
            "tags": []
          },
          "execution_count": 10
        },
        {
          "output_type": "display_data",
          "data": {
            "image/png": "[encoded data removed]",
            "text/plain": [
              "<Figure size 432x288 with 1 Axes>"
            ]
          },
          "metadata": {
            "tags": []
          }
        }
      ]
    },
    {
      "cell_type": "code",
      "metadata": {
        "id": "qbFio4M5zo1o"
      },
      "source": [
        "# IT IS ALMOST NORMALIZED BUT IT MAY CONTAINS SOME OUTLIERS "
      ],
      "execution_count": null,
      "outputs": []
    },
    {
      "cell_type": "code",
      "metadata": {
        "id": "_7JFOFERzo1o",
        "outputId": "bb249612-6269-4dda-80ff-1a89d7592f2d"
      },
      "source": [
        "# CHECKING THE VALUE COUNT OF THE Item_Fat_Content FEATURE\n",
        "sales_df['Item_Fat_Content'].value_counts().plot.bar()"
      ],
      "execution_count": null,
      "outputs": [
        {
          "output_type": "execute_result",
          "data": {
            "text/plain": [
              "<matplotlib.axes._subplots.AxesSubplot at 0x1d62acda630>"
            ]
          },
          "metadata": {
            "tags": []
          },
          "execution_count": 12
        },
        {
          "output_type": "display_data",
          "data": {
            "image/png": "[encoded data removed]",
            "text/plain": [
              "<Figure size 432x288 with 1 Axes>"
            ]
          },
          "metadata": {
            "tags": []
          }
        }
      ]
    },
    {
      "cell_type": "code",
      "metadata": {
        "id": "1H6oCNc2zo1o"
      },
      "source": [
        "# LF AND lOW FAT AND reg CAN ME ADDED WITH LOW FAT AND WITH REGULAR \n",
        "def replace_value(string):\n",
        "    if string=='low fat' or string =='LF' or string=='Low Fat':\n",
        "        return 0\n",
        "    else:\n",
        "        return 1\n",
        "    \n",
        "sales_df['Item_Fat_Content']=sales_df['Item_Fat_Content'].apply(replace_value)"
      ],
      "execution_count": null,
      "outputs": []
    },
    {
      "cell_type": "code",
      "metadata": {
        "id": "lL0oRtqYzo1o",
        "outputId": "b0f51050-ef8c-4eab-f251-c84f90e1fa91"
      },
      "source": [
        "# CHECKING THE VALUE COUNT OF THE Item_Fat_Content FEATURE\n",
        "sales_df['Item_Fat_Content'].value_counts().plot.bar()"
      ],
      "execution_count": null,
      "outputs": [
        {
          "output_type": "execute_result",
          "data": {
            "text/plain": [
              "<matplotlib.axes._subplots.AxesSubplot at 0x1d62c01d9b0>"
            ]
          },
          "metadata": {
            "tags": []
          },
          "execution_count": 14
        },
        {
          "output_type": "display_data",
          "data": {
            "image/png": "[encoded data removed]",
            "text/plain": [
              "<Figure size 432x288 with 1 Axes>"
            ]
          },
          "metadata": {
            "tags": []
          }
        }
      ]
    },
    {
      "cell_type": "code",
      "metadata": {
        "id": "ZsyQmn-Kzo1o"
      },
      "source": [
        "# FROM THE BAR PLOT IT IS CLEAR THAT LOW FAT CONTENT HAS MORE SALE THAN REGULAR FAT CONTENT"
      ],
      "execution_count": null,
      "outputs": []
    },
    {
      "cell_type": "code",
      "metadata": {
        "id": "SQTLYfBzzo1o"
      },
      "source": [
        "# FILLING THE MISSING VALUE OF THE Item_Weight FEATURE OF THE DATASET\n",
        "sales_df['Item_Weight'].fillna(sales_df['Item_Weight'].mean(),inplace=True)\n",
        "sales_df['Item_Outlet_Sales'].fillna(sales_df['Item_Outlet_Sales'].mean(),inplace=True)"
      ],
      "execution_count": null,
      "outputs": []
    },
    {
      "cell_type": "code",
      "metadata": {
        "scrolled": true,
        "id": "enYn_mHvzo1o",
        "outputId": "feb2281f-116f-4e82-e703-27093693f016"
      },
      "source": [
        "# CHECKING THE NORMALITY  IN THE FEATURE Item_Weight \n",
        "plt.figure(figsize=(7,4))\n",
        "sns.distplot(sales_df['Item_Weight'])"
      ],
      "execution_count": null,
      "outputs": [
        {
          "output_type": "execute_result",
          "data": {
            "text/plain": [
              "<matplotlib.axes._subplots.AxesSubplot at 0x1d62c0635c0>"
            ]
          },
          "metadata": {
            "tags": []
          },
          "execution_count": 17
        },
        {
          "output_type": "display_data",
          "data": {
            "image/png": "[encoded data removed]",
            "text/plain": [
              "<Figure size 504x288 with 1 Axes>"
            ]
          },
          "metadata": {
            "tags": []
          }
        }
      ]
    },
    {
      "cell_type": "code",
      "metadata": {
        "id": "VARzF8dJzo1p"
      },
      "source": [
        "# REMOVING THE SKEWNESS OF THE FEATURE\n",
        "sales_df['Item_Weight'] = np.log(sales_df['Item_Weight'])"
      ],
      "execution_count": null,
      "outputs": []
    },
    {
      "cell_type": "code",
      "metadata": {
        "id": "TdFm3bfrzo1p",
        "outputId": "62e1f4ff-7997-4360-902d-98b847633cf3"
      },
      "source": [
        "sales_df.groupby(\"Item_Fat_Content\")['Item_Outlet_Sales'].sum()"
      ],
      "execution_count": null,
      "outputs": [
        {
          "output_type": "execute_result",
          "data": {
            "text/plain": [
              "Item_Fat_Content\n",
              "0    1.990506e+07\n",
              "1    1.107797e+07\n",
              "Name: Item_Outlet_Sales, dtype: float64"
            ]
          },
          "metadata": {
            "tags": []
          },
          "execution_count": 19
        }
      ]
    },
    {
      "cell_type": "code",
      "metadata": {
        "id": "jy_Smxtdzo1p",
        "outputId": "3207d31c-2788-4728-ed0f-4809dba95910"
      },
      "source": [
        "sales_df.groupby(\"Item_Fat_Content\")['Item_MRP'].mean()"
      ],
      "execution_count": null,
      "outputs": [
        {
          "output_type": "execute_result",
          "data": {
            "text/plain": [
              "Item_Fat_Content\n",
              "0    141.189424\n",
              "1    140.667431\n",
              "Name: Item_MRP, dtype: float64"
            ]
          },
          "metadata": {
            "tags": []
          },
          "execution_count": 20
        }
      ]
    },
    {
      "cell_type": "code",
      "metadata": {
        "id": "j97BRyo-zo1p",
        "outputId": "6bfc87ca-1610-4f2f-f135-80524022f627"
      },
      "source": [
        "sales_df['Item_Type'].value_counts().plot.bar()"
      ],
      "execution_count": null,
      "outputs": [
        {
          "output_type": "execute_result",
          "data": {
            "text/plain": [
              "<matplotlib.axes._subplots.AxesSubplot at 0x1d62c12c3c8>"
            ]
          },
          "metadata": {
            "tags": []
          },
          "execution_count": 21
        },
        {
          "output_type": "display_data",
          "data": {
            "image/png": "[encoded data removed]",
            "text/plain": [
              "<Figure size 432x288 with 1 Axes>"
            ]
          },
          "metadata": {
            "tags": []
          }
        }
      ]
    },
    {
      "cell_type": "code",
      "metadata": {
        "id": "nf5qbypBzo1p",
        "outputId": "9e047c4e-0332-4853-cdba-665df190cdc9"
      },
      "source": [
        "sales_df['Outlet_Size'].value_counts()"
      ],
      "execution_count": null,
      "outputs": [
        {
          "output_type": "execute_result",
          "data": {
            "text/plain": [
              "Medium    4655\n",
              "Small     3980\n",
              "High      1553\n",
              "Name: Outlet_Size, dtype: int64"
            ]
          },
          "metadata": {
            "tags": []
          },
          "execution_count": 22
        }
      ]
    },
    {
      "cell_type": "code",
      "metadata": {
        "id": "aPa2zFQhzo1p"
      },
      "source": [
        "# FILLING THE Outlet_Size FEATURE MISSING VALUE BY MODE\n",
        "sales_df['Outlet_Size'].fillna(sales_df['Outlet_Size'].mode()[0],inplace=True)"
      ],
      "execution_count": null,
      "outputs": []
    },
    {
      "cell_type": "markdown",
      "metadata": {
        "id": "rRFi9D_xzo1p"
      },
      "source": [
        "REMOVING THE UNWANTED FEATURES FROM THE DATA"
      ]
    },
    {
      "cell_type": "code",
      "metadata": {
        "id": "RH0a-8fkzo1q"
      },
      "source": [
        "sales_df.drop(['Item_Identifier','Outlet_Identifier','Outlet_Establishment_Year'],axis=1,inplace=True)"
      ],
      "execution_count": null,
      "outputs": []
    },
    {
      "cell_type": "code",
      "metadata": {
        "id": "fXUZFRlHzo1q",
        "outputId": "11be645a-bbc1-44b2-a32e-c539e697768e"
      },
      "source": [
        "# DIVIDING THE CATEGORICAL DATA FROM THE DATASET\n",
        "categorial_features = sales_df.select_dtypes(include=[np.object])\n",
        "categorial_features.head(5)"
      ],
      "execution_count": null,
      "outputs": [
        {
          "output_type": "execute_result",
          "data": {
            "text/html": [
              "<div>\n",
              "<style scoped>\n",
              "    .dataframe tbody tr th:only-of-type {\n",
              "        vertical-align: middle;\n",
              "    }\n",
              "\n",
              "    .dataframe tbody tr th {\n",
              "        vertical-align: top;\n",
              "    }\n",
              "\n",
              "    .dataframe thead th {\n",
              "        text-align: right;\n",
              "    }\n",
              "</style>\n",
              "<table border=\"1\" class=\"dataframe\">\n",
              "  <thead>\n",
              "    <tr style=\"text-align: right;\">\n",
              "      <th></th>\n",
              "      <th>Item_Type</th>\n",
              "      <th>Outlet_Location_Type</th>\n",
              "      <th>Outlet_Size</th>\n",
              "      <th>Outlet_Type</th>\n",
              "    </tr>\n",
              "  </thead>\n",
              "  <tbody>\n",
              "    <tr>\n",
              "      <th>0</th>\n",
              "      <td>Dairy</td>\n",
              "      <td>Tier 1</td>\n",
              "      <td>Medium</td>\n",
              "      <td>Supermarket Type1</td>\n",
              "    </tr>\n",
              "    <tr>\n",
              "      <th>1</th>\n",
              "      <td>Soft Drinks</td>\n",
              "      <td>Tier 3</td>\n",
              "      <td>Medium</td>\n",
              "      <td>Supermarket Type2</td>\n",
              "    </tr>\n",
              "    <tr>\n",
              "      <th>2</th>\n",
              "      <td>Meat</td>\n",
              "      <td>Tier 1</td>\n",
              "      <td>Medium</td>\n",
              "      <td>Supermarket Type1</td>\n",
              "    </tr>\n",
              "    <tr>\n",
              "      <th>3</th>\n",
              "      <td>Fruits and Vegetables</td>\n",
              "      <td>Tier 3</td>\n",
              "      <td>Medium</td>\n",
              "      <td>Grocery Store</td>\n",
              "    </tr>\n",
              "    <tr>\n",
              "      <th>4</th>\n",
              "      <td>Household</td>\n",
              "      <td>Tier 3</td>\n",
              "      <td>High</td>\n",
              "      <td>Supermarket Type1</td>\n",
              "    </tr>\n",
              "  </tbody>\n",
              "</table>\n",
              "</div>"
            ],
            "text/plain": [
              "               Item_Type Outlet_Location_Type Outlet_Size        Outlet_Type\n",
              "0                  Dairy               Tier 1      Medium  Supermarket Type1\n",
              "1            Soft Drinks               Tier 3      Medium  Supermarket Type2\n",
              "2                   Meat               Tier 1      Medium  Supermarket Type1\n",
              "3  Fruits and Vegetables               Tier 3      Medium      Grocery Store\n",
              "4              Household               Tier 3        High  Supermarket Type1"
            ]
          },
          "metadata": {
            "tags": []
          },
          "execution_count": 25
        }
      ]
    },
    {
      "cell_type": "code",
      "metadata": {
        "scrolled": true,
        "id": "b9_FhPm5zo1q",
        "outputId": "b3399b57-13f6-4285-9d23-503765125692"
      },
      "source": [
        "# NUMERICAL DATA FROM THE DATASET\n",
        "numerical_features = sales_df.select_dtypes(include=[np.number])\n",
        "numerical_features.head(5)"
      ],
      "execution_count": null,
      "outputs": [
        {
          "output_type": "execute_result",
          "data": {
            "text/html": [
              "<div>\n",
              "<style scoped>\n",
              "    .dataframe tbody tr th:only-of-type {\n",
              "        vertical-align: middle;\n",
              "    }\n",
              "\n",
              "    .dataframe tbody tr th {\n",
              "        vertical-align: top;\n",
              "    }\n",
              "\n",
              "    .dataframe thead th {\n",
              "        text-align: right;\n",
              "    }\n",
              "</style>\n",
              "<table border=\"1\" class=\"dataframe\">\n",
              "  <thead>\n",
              "    <tr style=\"text-align: right;\">\n",
              "      <th></th>\n",
              "      <th>Item_Fat_Content</th>\n",
              "      <th>Item_MRP</th>\n",
              "      <th>Item_Outlet_Sales</th>\n",
              "      <th>Item_Visibility</th>\n",
              "      <th>Item_Weight</th>\n",
              "    </tr>\n",
              "  </thead>\n",
              "  <tbody>\n",
              "    <tr>\n",
              "      <th>0</th>\n",
              "      <td>0</td>\n",
              "      <td>249.8092</td>\n",
              "      <td>3735.1380</td>\n",
              "      <td>0.016047</td>\n",
              "      <td>2.230014</td>\n",
              "    </tr>\n",
              "    <tr>\n",
              "      <th>1</th>\n",
              "      <td>1</td>\n",
              "      <td>48.2692</td>\n",
              "      <td>443.4228</td>\n",
              "      <td>0.019278</td>\n",
              "      <td>1.778336</td>\n",
              "    </tr>\n",
              "    <tr>\n",
              "      <th>2</th>\n",
              "      <td>0</td>\n",
              "      <td>141.6180</td>\n",
              "      <td>2097.2700</td>\n",
              "      <td>0.016760</td>\n",
              "      <td>2.862201</td>\n",
              "    </tr>\n",
              "    <tr>\n",
              "      <th>3</th>\n",
              "      <td>1</td>\n",
              "      <td>182.0950</td>\n",
              "      <td>732.3800</td>\n",
              "      <td>0.000000</td>\n",
              "      <td>2.954910</td>\n",
              "    </tr>\n",
              "    <tr>\n",
              "      <th>4</th>\n",
              "      <td>0</td>\n",
              "      <td>53.8614</td>\n",
              "      <td>994.7052</td>\n",
              "      <td>0.000000</td>\n",
              "      <td>2.189416</td>\n",
              "    </tr>\n",
              "  </tbody>\n",
              "</table>\n",
              "</div>"
            ],
            "text/plain": [
              "   Item_Fat_Content  Item_MRP  Item_Outlet_Sales  Item_Visibility  Item_Weight\n",
              "0                 0  249.8092          3735.1380         0.016047     2.230014\n",
              "1                 1   48.2692           443.4228         0.019278     1.778336\n",
              "2                 0  141.6180          2097.2700         0.016760     2.862201\n",
              "3                 1  182.0950           732.3800         0.000000     2.954910\n",
              "4                 0   53.8614           994.7052         0.000000     2.189416"
            ]
          },
          "metadata": {
            "tags": []
          },
          "execution_count": 26
        }
      ]
    },
    {
      "cell_type": "code",
      "metadata": {
        "id": "VhDsaLMTzo1q",
        "outputId": "12361354-ec3a-454e-c7ef-3fb0c669c441"
      },
      "source": [
        "# Check the skew of all numerical features and removing it through BOX COX TRANSFORM\n",
        "from scipy.stats import skew\n",
        "# numerical data skewness\n",
        "skewed_feats = numerical_features.apply(lambda x: skew(x.dropna())).sort_values(ascending=False)\n",
        "print(\"\\nSkew in numerical features: \\n\")\n",
        "skewness = pd.DataFrame({'Skew' :skewed_feats})\n",
        "skewness.head(10)\n",
        "skewness = skewness[abs(skewness) > 0.75]\n",
        "print(\"There are {} skewed numerical features to Box Cox transform\".format(skewness.shape[0]))"
      ],
      "execution_count": null,
      "outputs": [
        {
          "output_type": "stream",
          "text": [
            "\n",
            "Skew in numerical features: \n",
            "\n",
            "There are 5 skewed numerical features to Box Cox transform\n"
          ],
          "name": "stdout"
        }
      ]
    },
    {
      "cell_type": "code",
      "metadata": {
        "id": "TNAV2zvvzo1q"
      },
      "source": [
        "from sklearn.preprocessing import StandardScaler\n",
        "from sklearn.preprocessing import MinMaxScaler\n",
        "cols_train = list(numerical_features.columns)\n",
        "index_train = numerical_features.index.tolist()"
      ],
      "execution_count": null,
      "outputs": []
    },
    {
      "cell_type": "code",
      "metadata": {
        "id": "O4l3Js8tzo1q"
      },
      "source": [
        "numerical_features_names = numerical_features.columns\n",
        "numerical_features_index = numerical_features.index"
      ],
      "execution_count": null,
      "outputs": []
    },
    {
      "cell_type": "code",
      "metadata": {
        "id": "ud1soiolzo1q"
      },
      "source": [
        "from scipy.special import boxcox1p\n",
        "skewed_features = skewness.index\n",
        "lam = 0.5\n",
        "for feat in skewed_features:\n",
        "    #all_data[feat] += 1\n",
        "    numerical_features[feat] = boxcox1p(numerical_features[feat], lam)"
      ],
      "execution_count": null,
      "outputs": []
    },
    {
      "cell_type": "code",
      "metadata": {
        "scrolled": true,
        "id": "8O7xkz9tzo1q",
        "outputId": "a693c9aa-7080-4706-d626-b5945769eaa6"
      },
      "source": [
        "#Check values in numerical columns after minmax scaling\n",
        "numerical_features.head(5)"
      ],
      "execution_count": null,
      "outputs": [
        {
          "output_type": "execute_result",
          "data": {
            "text/html": [
              "<div>\n",
              "<style scoped>\n",
              "    .dataframe tbody tr th:only-of-type {\n",
              "        vertical-align: middle;\n",
              "    }\n",
              "\n",
              "    .dataframe tbody tr th {\n",
              "        vertical-align: top;\n",
              "    }\n",
              "\n",
              "    .dataframe thead th {\n",
              "        text-align: right;\n",
              "    }\n",
              "</style>\n",
              "<table border=\"1\" class=\"dataframe\">\n",
              "  <thead>\n",
              "    <tr style=\"text-align: right;\">\n",
              "      <th></th>\n",
              "      <th>Item_Fat_Content</th>\n",
              "      <th>Item_MRP</th>\n",
              "      <th>Item_Outlet_Sales</th>\n",
              "      <th>Item_Visibility</th>\n",
              "      <th>Item_Weight</th>\n",
              "    </tr>\n",
              "  </thead>\n",
              "  <tbody>\n",
              "    <tr>\n",
              "      <th>0</th>\n",
              "      <td>0.000000</td>\n",
              "      <td>29.673914</td>\n",
              "      <td>120.247912</td>\n",
              "      <td>0.015983</td>\n",
              "      <td>1.594448</td>\n",
              "    </tr>\n",
              "    <tr>\n",
              "      <th>1</th>\n",
              "      <td>0.828427</td>\n",
              "      <td>12.038404</td>\n",
              "      <td>40.162675</td>\n",
              "      <td>0.019186</td>\n",
              "      <td>1.333669</td>\n",
              "    </tr>\n",
              "    <tr>\n",
              "      <th>2</th>\n",
              "      <td>0.000000</td>\n",
              "      <td>21.884556</td>\n",
              "      <td>89.613754</td>\n",
              "      <td>0.016690</td>\n",
              "      <td>1.930497</td>\n",
              "    </tr>\n",
              "    <tr>\n",
              "      <th>3</th>\n",
              "      <td>0.828427</td>\n",
              "      <td>25.062520</td>\n",
              "      <td>52.161979</td>\n",
              "      <td>0.000000</td>\n",
              "      <td>1.977391</td>\n",
              "    </tr>\n",
              "    <tr>\n",
              "      <th>4</th>\n",
              "      <td>0.000000</td>\n",
              "      <td>12.813696</td>\n",
              "      <td>61.109594</td>\n",
              "      <td>0.000000</td>\n",
              "      <td>1.571787</td>\n",
              "    </tr>\n",
              "  </tbody>\n",
              "</table>\n",
              "</div>"
            ],
            "text/plain": [
              "   Item_Fat_Content   Item_MRP  Item_Outlet_Sales  Item_Visibility  \\\n",
              "0          0.000000  29.673914         120.247912         0.015983   \n",
              "1          0.828427  12.038404          40.162675         0.019186   \n",
              "2          0.000000  21.884556          89.613754         0.016690   \n",
              "3          0.828427  25.062520          52.161979         0.000000   \n",
              "4          0.000000  12.813696          61.109594         0.000000   \n",
              "\n",
              "   Item_Weight  \n",
              "0     1.594448  \n",
              "1     1.333669  \n",
              "2     1.930497  \n",
              "3     1.977391  \n",
              "4     1.571787  "
            ]
          },
          "metadata": {
            "tags": []
          },
          "execution_count": 31
        }
      ]
    },
    {
      "cell_type": "code",
      "metadata": {
        "id": "TvOj-D9azo1q"
      },
      "source": [
        "X = pd.concat([categorial_features, numerical_features], axis=1)"
      ],
      "execution_count": null,
      "outputs": []
    },
    {
      "cell_type": "code",
      "metadata": {
        "scrolled": true,
        "id": "v6_NAU19zo1q",
        "outputId": "6cf70959-4ce9-4ba3-a107-d45138333f39"
      },
      "source": [
        "# SUMMARY OF THE CONTINOUS FEATURES AND CATEGORICAL FEATURES\n",
        "print('SUMMARY ',X.describe())\n",
        "print('__'*30)\n",
        "print(\"Summary\",X.describe(include='O'))"
      ],
      "execution_count": null,
      "outputs": [
        {
          "output_type": "stream",
          "text": [
            "SUMMARY         Item_Fat_Content      Item_MRP  Item_Outlet_Sales  Item_Visibility  \\\n",
            "count      14204.000000  14204.000000       14204.000000     14204.000000   \n",
            "mean           0.292726     21.192858          86.923526         0.064314   \n",
            "std            0.396011      5.487564          28.667404         0.049194   \n",
            "min            0.000000      9.364858           9.711533         0.000000   \n",
            "25%            0.000000     17.494820          74.657394         0.026855   \n",
            "50%            0.000000     21.937168          91.429951         0.053310   \n",
            "75%            0.828427     25.339027          91.429951         0.091925   \n",
            "max            0.828427     30.734593         226.805287         0.305117   \n",
            "\n",
            "        Item_Weight  \n",
            "count  14204.000000  \n",
            "mean       1.730106  \n",
            "std        0.196487  \n",
            "min        1.172523  \n",
            "25%        1.594448  \n",
            "50%        1.767698  \n",
            "75%        1.884631  \n",
            "max        2.030410  \n",
            "____________________________________________________________\n",
            "Summary                     Item_Type Outlet_Location_Type Outlet_Size  \\\n",
            "count                   14204                14204       14204   \n",
            "unique                     16                    3           3   \n",
            "top     Fruits and Vegetables               Tier 3      Medium   \n",
            "freq                     2013                 5583        8671   \n",
            "\n",
            "              Outlet_Type  \n",
            "count               14204  \n",
            "unique                  4  \n",
            "top     Supermarket Type1  \n",
            "freq                 9294  \n"
          ],
          "name": "stdout"
        }
      ]
    },
    {
      "cell_type": "code",
      "metadata": {
        "id": "cUgypNZYzo1q",
        "outputId": "1b42d1bd-dcb6-49d3-eb17-f971887d7240"
      },
      "source": [
        "corr = X.corr()\n",
        "corr"
      ],
      "execution_count": null,
      "outputs": [
        {
          "output_type": "execute_result",
          "data": {
            "text/html": [
              "<div>\n",
              "<style scoped>\n",
              "    .dataframe tbody tr th:only-of-type {\n",
              "        vertical-align: middle;\n",
              "    }\n",
              "\n",
              "    .dataframe tbody tr th {\n",
              "        vertical-align: top;\n",
              "    }\n",
              "\n",
              "    .dataframe thead th {\n",
              "        text-align: right;\n",
              "    }\n",
              "</style>\n",
              "<table border=\"1\" class=\"dataframe\">\n",
              "  <thead>\n",
              "    <tr style=\"text-align: right;\">\n",
              "      <th></th>\n",
              "      <th>Item_Fat_Content</th>\n",
              "      <th>Item_MRP</th>\n",
              "      <th>Item_Outlet_Sales</th>\n",
              "      <th>Item_Visibility</th>\n",
              "      <th>Item_Weight</th>\n",
              "    </tr>\n",
              "  </thead>\n",
              "  <tbody>\n",
              "    <tr>\n",
              "      <th>Item_Fat_Content</th>\n",
              "      <td>1.000000</td>\n",
              "      <td>-0.003570</td>\n",
              "      <td>0.013570</td>\n",
              "      <td>0.044473</td>\n",
              "      <td>-0.030940</td>\n",
              "    </tr>\n",
              "    <tr>\n",
              "      <th>Item_MRP</th>\n",
              "      <td>-0.003570</td>\n",
              "      <td>1.000000</td>\n",
              "      <td>0.438908</td>\n",
              "      <td>-0.008928</td>\n",
              "      <td>0.026608</td>\n",
              "    </tr>\n",
              "    <tr>\n",
              "      <th>Item_Outlet_Sales</th>\n",
              "      <td>0.013570</td>\n",
              "      <td>0.438908</td>\n",
              "      <td>1.000000</td>\n",
              "      <td>-0.123512</td>\n",
              "      <td>0.006715</td>\n",
              "    </tr>\n",
              "    <tr>\n",
              "      <th>Item_Visibility</th>\n",
              "      <td>0.044473</td>\n",
              "      <td>-0.008928</td>\n",
              "      <td>-0.123512</td>\n",
              "      <td>1.000000</td>\n",
              "      <td>-0.003465</td>\n",
              "    </tr>\n",
              "    <tr>\n",
              "      <th>Item_Weight</th>\n",
              "      <td>-0.030940</td>\n",
              "      <td>0.026608</td>\n",
              "      <td>0.006715</td>\n",
              "      <td>-0.003465</td>\n",
              "      <td>1.000000</td>\n",
              "    </tr>\n",
              "  </tbody>\n",
              "</table>\n",
              "</div>"
            ],
            "text/plain": [
              "                   Item_Fat_Content  Item_MRP  Item_Outlet_Sales  \\\n",
              "Item_Fat_Content           1.000000 -0.003570           0.013570   \n",
              "Item_MRP                  -0.003570  1.000000           0.438908   \n",
              "Item_Outlet_Sales          0.013570  0.438908           1.000000   \n",
              "Item_Visibility            0.044473 -0.008928          -0.123512   \n",
              "Item_Weight               -0.030940  0.026608           0.006715   \n",
              "\n",
              "                   Item_Visibility  Item_Weight  \n",
              "Item_Fat_Content          0.044473    -0.030940  \n",
              "Item_MRP                 -0.008928     0.026608  \n",
              "Item_Outlet_Sales        -0.123512     0.006715  \n",
              "Item_Visibility           1.000000    -0.003465  \n",
              "Item_Weight              -0.003465     1.000000  "
            ]
          },
          "metadata": {
            "tags": []
          },
          "execution_count": 34
        }
      ]
    },
    {
      "cell_type": "code",
      "metadata": {
        "id": "BvDrkHXizo1r"
      },
      "source": [
        "corr_matrix = X.corr().abs()"
      ],
      "execution_count": null,
      "outputs": []
    },
    {
      "cell_type": "code",
      "metadata": {
        "scrolled": true,
        "id": "JH3L_x0Czo1r",
        "outputId": "ee76b272-d46e-4356-a0a0-44d406a57293"
      },
      "source": [
        "plt.figure(figsize=(10,8))\n",
        "sns.heatmap(corr,annot=True,square=True)"
      ],
      "execution_count": null,
      "outputs": [
        {
          "output_type": "execute_result",
          "data": {
            "text/plain": [
              "<matplotlib.axes._subplots.AxesSubplot at 0x1d62c89bcf8>"
            ]
          },
          "metadata": {
            "tags": []
          },
          "execution_count": 36
        },
        {
          "output_type": "display_data",
          "data": {
            "image/png": "[encoded data removed]",
            "text/plain": [
              "<Figure size 720x576 with 2 Axes>"
            ]
          },
          "metadata": {
            "tags": []
          }
        }
      ]
    },
    {
      "cell_type": "code",
      "metadata": {
        "id": "s34qbBAczo1r"
      },
      "source": [
        "# From the heatmap it is clear that feature 'Item_Visibility' is negatively correlated feature 'Item_Outlet_Sales'"
      ],
      "execution_count": null,
      "outputs": []
    },
    {
      "cell_type": "code",
      "metadata": {
        "id": "PUthvZKEzo1r"
      },
      "source": [
        "# ENCODING THE CATEGORICAL DATA INTO BINARY OF THE DATASET\n",
        "from sklearn.preprocessing import LabelEncoder\n",
        "cols = (\"Outlet_Size\", \"Outlet_Type\", \"Item_Type\" ,\"Outlet_Location_Type\" )\n",
        "for c in cols:\n",
        "    label = LabelEncoder()\n",
        "    label.fit(list(X[c].values))\n",
        "    X[c] = label.transform(list(X[c].values))"
      ],
      "execution_count": null,
      "outputs": []
    },
    {
      "cell_type": "code",
      "metadata": {
        "scrolled": true,
        "id": "NJDBJYEozo1r",
        "outputId": "d7668dc1-36db-4c11-8aa2-89134756f2f4"
      },
      "source": [
        "print(X.head())\n",
        "print(\"__\"*40)\n",
        "print(X.dtypes)"
      ],
      "execution_count": null,
      "outputs": [
        {
          "output_type": "stream",
          "text": [
            "   Item_Type  Outlet_Location_Type  Outlet_Size  Outlet_Type  \\\n",
            "0          4                     0            1            1   \n",
            "1         14                     2            1            2   \n",
            "2         10                     0            1            1   \n",
            "3          6                     2            1            0   \n",
            "4          9                     2            0            1   \n",
            "\n",
            "   Item_Fat_Content   Item_MRP  Item_Outlet_Sales  Item_Visibility  \\\n",
            "0          0.000000  29.673914         120.247912         0.015983   \n",
            "1          0.828427  12.038404          40.162675         0.019186   \n",
            "2          0.000000  21.884556          89.613754         0.016690   \n",
            "3          0.828427  25.062520          52.161979         0.000000   \n",
            "4          0.000000  12.813696          61.109594         0.000000   \n",
            "\n",
            "   Item_Weight  \n",
            "0     1.594448  \n",
            "1     1.333669  \n",
            "2     1.930497  \n",
            "3     1.977391  \n",
            "4     1.571787  \n",
            "________________________________________________________________________________\n",
            "Item_Type                 int64\n",
            "Outlet_Location_Type      int64\n",
            "Outlet_Size               int64\n",
            "Outlet_Type               int64\n",
            "Item_Fat_Content        float64\n",
            "Item_MRP                float64\n",
            "Item_Outlet_Sales       float64\n",
            "Item_Visibility         float64\n",
            "Item_Weight             float64\n",
            "dtype: object\n"
          ],
          "name": "stdout"
        }
      ]
    },
    {
      "cell_type": "code",
      "metadata": {
        "id": "F8JBP8dJzo1r"
      },
      "source": [
        "x = X.drop('Item_Outlet_Sales',axis=1)\n",
        "y = X['Item_Outlet_Sales']\n",
        "# IMPORTING THE TRAIN_TEST_SPLIT\n",
        "from sklearn.model_selection import train_test_split\n",
        "x_train,x_test,y_train,y_test = train_test_split(x,y,test_size=0.33)"
      ],
      "execution_count": null,
      "outputs": []
    },
    {
      "cell_type": "code",
      "metadata": {
        "id": "CSThDWdhzo1r"
      },
      "source": [
        "# IMPORTING THE LIBRARY Measure Metrics \n",
        "from sklearn.metrics import mean_absolute_error,mean_squared_error,r2_score\n",
        "from sklearn import metrics\n",
        "from sklearn.metrics import mean_squared_log_error"
      ],
      "execution_count": null,
      "outputs": []
    },
    {
      "cell_type": "code",
      "metadata": {
        "id": "ev0Yc6w2zo1r"
      },
      "source": [
        "def train_classifier(clf, x_train, y_train):\n",
        "    # FITTING THE CLASSIFIER ON THE TRAINING DATA\n",
        "\n",
        "    # CALCULATING THE TIME OF THE MODEL TO FIT THROUGH TIME FUNCTION\n",
        "    start = time()\n",
        "    clf.fit(x_train, y_train)\n",
        "    end = time()\n",
        "\n",
        "    # PRINT THE RESULT\n",
        "    print(\"time of the training:\",end-start)"
      ],
      "execution_count": null,
      "outputs": []
    },
    {
      "cell_type": "code",
      "metadata": {
        "id": "8zItUGTKzo1r"
      },
      "source": [
        "def predict_labels(clf, x_test, y_test):\n",
        "    # MAKING PREDICTIONS AND CALCULATING THE MEASURE SCORE OF THE MODEL\n",
        "\n",
        "   #CALCULATING THE TIME OF THE MODEL TO FIT THROUGH TIME FUNCTION\n",
        "    start = time()\n",
        "    y_pred = clf.predict(x_test)\n",
        "    end = time()\n",
        "    \n",
        "\n",
        "    # PRINT THE RESULT\n",
        "    print('Mean Absolute Error:', metrics.mean_absolute_error(y_test, y_pred))  \n",
        "    print('Mean Squared Error:', metrics.mean_squared_error(y_test, y_pred))\n",
        "    print('Root Mean Squared Error:', np.sqrt(metrics.mean_squared_error(y_test, y_pred)))\n",
        "    print('Root Mean Squared Log Error',np.sqrt(mean_squared_log_error( y_test, y_pred )))\n",
        "    "
      ],
      "execution_count": null,
      "outputs": []
    },
    {
      "cell_type": "code",
      "metadata": {
        "id": "prO0dGcwzo1r"
      },
      "source": [
        "# MODELS\n",
        "# IMPORTING THE LIBRARIES\n",
        "from sklearn.linear_model import LinearRegression\n",
        "from sklearn.tree import DecisionTreeRegressor\n",
        "from sklearn.ensemble import RandomForestRegressor\n",
        "from sklearn.svm import SVR\n",
        "from sklearn.model_selection import cross_val_score\n",
        "from sklearn.model_selection import cross_val_predict"
      ],
      "execution_count": null,
      "outputs": []
    },
    {
      "cell_type": "code",
      "metadata": {
        "id": "hcYizgX-zo1r"
      },
      "source": [
        "lg = LinearRegression()\n",
        "dtc = DecisionTreeRegressor(criterion='mse',max_depth=3)\n",
        "rf = RandomForestRegressor(n_estimators=10,n_jobs=-1,max_depth=3)\n",
        "svr = SVR()"
      ],
      "execution_count": null,
      "outputs": []
    },
    {
      "cell_type": "code",
      "metadata": {
        "id": "Z3urwH-gzo1r",
        "outputId": "5ff93c2c-67d6-4964-e004-e9e57fbf92d8"
      },
      "source": [
        "train_classifier(lg,x_train,y_train)\n",
        "predict_labels(lg,x_test,y_test)\n",
        "print('coefficient :',lg.coef_)"
      ],
      "execution_count": null,
      "outputs": [
        {
          "output_type": "stream",
          "text": [
            "time of the training: 0.012544631958007812\n",
            "Mean Absolute Error: 18.427027898912897\n",
            "Mean Squared Error: 542.3002759007462\n",
            "Root Mean Squared Error: 23.287341537855845\n",
            "Root Mean Squared Log Error 0.3350552674120177\n",
            "coefficient : [ 1.33779006e-03 -7.08874026e+00 -5.83550938e+00  1.46063174e+01\n",
            "  9.28509154e-01  2.28171013e+00 -2.54229564e+01 -1.61019923e+00]\n"
          ],
          "name": "stdout"
        }
      ]
    },
    {
      "cell_type": "code",
      "metadata": {
        "scrolled": true,
        "id": "MEHpCQYEzo1r",
        "outputId": "6489b5d6-ccfe-47e9-db63-1ffe65912ba1"
      },
      "source": [
        "train_classifier(dtc,x_train,y_train)\n",
        "predict_labels(dtc,x_test,y_test)"
      ],
      "execution_count": null,
      "outputs": [
        {
          "output_type": "stream",
          "text": [
            "time of the training: 0.015108585357666016\n",
            "Mean Absolute Error: 18.249837599741593\n",
            "Mean Squared Error: 519.2504373603805\n",
            "Root Mean Squared Error: 22.78706732689357\n",
            "Root Mean Squared Log Error 0.32143316061697624\n"
          ],
          "name": "stdout"
        }
      ]
    },
    {
      "cell_type": "code",
      "metadata": {
        "id": "xgglbXR8zo1r",
        "outputId": "62131ebd-27d6-4367-93bc-d9eb6e7fc71b"
      },
      "source": [
        "train_classifier(rf,x_train,y_train)\n",
        "predict_labels(rf,x_test,y_test)"
      ],
      "execution_count": null,
      "outputs": [
        {
          "output_type": "stream",
          "text": [
            "time of the training: 0.12443685531616211\n",
            "Mean Absolute Error: 18.10789077611667\n",
            "Mean Squared Error: 512.015379978855\n",
            "Root Mean Squared Error: 22.627756848146813\n",
            "Root Mean Squared Log Error 0.3212995046620012\n"
          ],
          "name": "stdout"
        }
      ]
    },
    {
      "cell_type": "code",
      "metadata": {
        "id": "23de0Tt-zo1s",
        "outputId": "638fae10-80e2-4c01-b62e-98df07f5dc4c"
      },
      "source": [
        "train_classifier(svr,x_train,y_train)\n",
        "predict_labels(svr,x_test,y_test)"
      ],
      "execution_count": null,
      "outputs": [
        {
          "output_type": "stream",
          "text": [
            "time of the training: 7.018449783325195\n",
            "Mean Absolute Error: 17.780713378538966\n",
            "Mean Squared Error: 688.873292296802\n",
            "Root Mean Squared Error: 26.246395796314623\n",
            "Root Mean Squared Log Error 0.3825191445454825\n"
          ],
          "name": "stdout"
        }
      ]
    },
    {
      "cell_type": "code",
      "metadata": {
        "id": "gaChAoA-zo1s"
      },
      "source": [
        "# Applying the GridSearchCV on the RandomForestModel\n",
        "# Importing the Library\n",
        "from sklearn.model_selection import GridSearchCV\n",
        "params = ({'n_estimators':[20,30,40],'criterion':['mse','mae'],'max_depth':[3,4,5]})\n",
        "grid_search = GridSearchCV(estimator=rf,param_grid=params,n_jobs=-1)"
      ],
      "execution_count": null,
      "outputs": []
    },
    {
      "cell_type": "code",
      "metadata": {
        "id": "D2sNleQLzo1s",
        "outputId": "b9d95ff9-889a-47f1-d758-35834c56fe5b"
      },
      "source": [
        "grid_search.fit(x_train,y_train)\n",
        "grid_search.predict(x_test)"
      ],
      "execution_count": null,
      "outputs": [
        {
          "output_type": "execute_result",
          "data": {
            "text/plain": [
              "array([ 99.07863492,  62.18542161,  56.76257975, ...,  86.61189131,\n",
              "       110.1446851 ,  97.10875112])"
            ]
          },
          "metadata": {
            "tags": []
          },
          "execution_count": 55
        }
      ]
    },
    {
      "cell_type": "code",
      "metadata": {
        "id": "UuPqY-4Fzo1s",
        "outputId": "7d7cb901-0e6c-4abf-b68c-5e4c7d9b7944"
      },
      "source": [
        "print(\"Best parameter of the model :\",grid_search.best_params_)"
      ],
      "execution_count": null,
      "outputs": [
        {
          "output_type": "stream",
          "text": [
            "Best parameter of the model : {'criterion': 'mse', 'max_depth': 5, 'n_estimators': 20}\n"
          ],
          "name": "stdout"
        }
      ]
    },
    {
      "cell_type": "code",
      "metadata": {
        "id": "VkJFNNJ0zo1s"
      },
      "source": [
        "# So these are the best parameters which can be applied on Random Forest Model for getting the accuracy "
      ],
      "execution_count": null,
      "outputs": []
    },
    {
      "cell_type": "code",
      "metadata": {
        "id": "alwd-58_zo1s"
      },
      "source": [
        "# Saving the Random Forest Model\n",
        "import pickle\n",
        "filehandler = open(\"Project_29.obj\",\"wb\")\n",
        "# saving the model in pickel string\n",
        "saved_rf_model = pickle.dump(rf,filehandler)\n",
        "filehandler.close()"
      ],
      "execution_count": null,
      "outputs": []
    },
    {
      "cell_type": "code",
      "metadata": {
        "id": "GbVog33zzo1s"
      },
      "source": [
        ""
      ],
      "execution_count": null,
      "outputs": []
    }
  ]
}